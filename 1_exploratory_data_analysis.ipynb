{
 "cells": [
  {
   "cell_type": "markdown",
   "id": "de429c67",
   "metadata": {},
   "source": [
    "Notes\n",
    "\n",
    "This is going to be a logistic regression model"
   ]
  },
  {
   "cell_type": "code",
   "execution_count": 1,
   "id": "472f9d0a",
   "metadata": {},
   "outputs": [],
   "source": [
    "import pandas as pd\n",
    "from util import get_data, set_cwd_to_script, dependent_variable, categorical_variables, continuous_variables\n",
    "set_cwd_to_script()\n",
    "pd.set_option('display.max_rows', 500)"
   ]
  },
  {
   "cell_type": "markdown",
   "id": "fb97c579",
   "metadata": {},
   "source": [
    "Correlation matrix\n",
    "\n",
    "Independent variables that correlate strongly with the dependent variable (action taken) should be included in the model.\n",
    "\n",
    "Alot of the independent variables are correlated with each other. This is called multicolinarity and can interfere with the model results.\n",
    "https://towardsdatascience.com/multi-collinearity-in-regression-fe7a2c1467ea\n",
    "\n"
   ]
  },
  {
   "cell_type": "code",
   "execution_count": 2,
   "id": "8b5de772",
   "metadata": {},
   "outputs": [
    {
     "data": {
      "text/plain": [
       "activity_year                                    1\n",
       "lei                                              1\n",
       "derived_msa-md                                   1\n",
       "state_code                                       1\n",
       "county_code                                   2901\n",
       "census_tract                                  3118\n",
       "conforming_loan_limit                         3084\n",
       "derived_loan_product_type                        1\n",
       "derived_dwelling_category                        1\n",
       "action_taken                                     1\n",
       "purchaser_type                                   1\n",
       "preapproval                                      1\n",
       "loan_type                                        1\n",
       "loan_purpose                                     1\n",
       "lien_status                                      1\n",
       "reverse_mortgage                                 1\n",
       "open-end_line_of_credit                          1\n",
       "business_or_commercial_purpose                   1\n",
       "loan_amount                                      1\n",
       "loan_to_value_ratio                         252243\n",
       "interest_rate                               210199\n",
       "rate_spread                                 320331\n",
       "hoepa_status                                     1\n",
       "total_loan_costs                            274089\n",
       "total_points_and_fees                       738429\n",
       "origination_charges                         273055\n",
       "discount_points                             624688\n",
       "lender_credits                              529171\n",
       "loan_term                                     4495\n",
       "prepayment_penalty_term                     729270\n",
       "intro_rate_period                           683991\n",
       "negative_amortization                            1\n",
       "interest_only_payment                            1\n",
       "balloon_payment                                  1\n",
       "other_nonamortizing_features                     1\n",
       "property_value                              156747\n",
       "construction_method                              1\n",
       "occupancy_type                                   1\n",
       "manufactured_home_secured_property_type          1\n",
       "manufactured_home_land_property_interest         1\n",
       "total_units                                      1\n",
       "multifamily_affordable_units                738705\n",
       "income                                      105572\n",
       "debt_to_income_ratio                        259071\n",
       "applicant_credit_score_type                      1\n",
       "co-applicant_credit_score_type                   1\n",
       "applicant_age                                    1\n",
       "co-applicant_age                                 1\n",
       "applicant_age_above_62                       66919\n",
       "co-applicant_age_above_62                   462911\n",
       "submission_of_application                        1\n",
       "initially_payable_to_institution                 1\n",
       "aus-1                                            1\n",
       "aus-2                                       721383\n",
       "aus-3                                       765508\n",
       "aus-4                                       776169\n",
       "aus-5                                       776508\n",
       "denial_reason-1                                  1\n",
       "denial_reason-2                             765676\n",
       "denial_reason-3                             776143\n",
       "denial_reason-4                             777705\n",
       "tract_population                                 1\n",
       "tract_minority_population_percent                1\n",
       "ffiec_msa_md_median_family_income                1\n",
       "tract_to_msa_income_percentage                   1\n",
       "tract_owner_occupied_units                       1\n",
       "tract_one_to_four_family_homes                   1\n",
       "tract_median_age_of_housing_units                1\n",
       "dtype: int64"
      ]
     },
     "execution_count": 2,
     "metadata": {},
     "output_type": "execute_result"
    }
   ],
   "source": [
    "loan_data = get_data(\"state_IL_application.csv\")\n",
    "loan_data.isnull().sum()"
   ]
  },
  {
   "cell_type": "code",
   "execution_count": 3,
   "id": "1b3d7480",
   "metadata": {},
   "outputs": [
    {
     "ename": "KeyError",
     "evalue": "'ageapplicant'",
     "output_type": "error",
     "traceback": [
      "\u001b[0;31m---------------------------------------------------------------------------\u001b[0m",
      "\u001b[0;31mKeyError\u001b[0m                                  Traceback (most recent call last)",
      "\u001b[0;32m~/anaconda3/envs/data-science/lib/python3.10/site-packages/pandas/core/indexes/base.py\u001b[0m in \u001b[0;36mget_loc\u001b[0;34m(self, key, method, tolerance)\u001b[0m\n\u001b[1;32m   3628\u001b[0m             \u001b[0;32mtry\u001b[0m\u001b[0;34m:\u001b[0m\u001b[0;34m\u001b[0m\u001b[0;34m\u001b[0m\u001b[0m\n\u001b[0;32m-> 3629\u001b[0;31m                 \u001b[0;32mreturn\u001b[0m \u001b[0mself\u001b[0m\u001b[0;34m.\u001b[0m\u001b[0m_engine\u001b[0m\u001b[0;34m.\u001b[0m\u001b[0mget_loc\u001b[0m\u001b[0;34m(\u001b[0m\u001b[0mcasted_key\u001b[0m\u001b[0;34m)\u001b[0m\u001b[0;34m\u001b[0m\u001b[0;34m\u001b[0m\u001b[0m\n\u001b[0m\u001b[1;32m   3630\u001b[0m             \u001b[0;32mexcept\u001b[0m \u001b[0mKeyError\u001b[0m \u001b[0;32mas\u001b[0m \u001b[0merr\u001b[0m\u001b[0;34m:\u001b[0m\u001b[0;34m\u001b[0m\u001b[0;34m\u001b[0m\u001b[0m\n",
      "\u001b[0;32m~/anaconda3/envs/data-science/lib/python3.10/site-packages/pandas/_libs/index.pyx\u001b[0m in \u001b[0;36mpandas._libs.index.IndexEngine.get_loc\u001b[0;34m()\u001b[0m\n",
      "\u001b[0;32m~/anaconda3/envs/data-science/lib/python3.10/site-packages/pandas/_libs/index.pyx\u001b[0m in \u001b[0;36mpandas._libs.index.IndexEngine.get_loc\u001b[0;34m()\u001b[0m\n",
      "\u001b[0;32mpandas/_libs/hashtable_class_helper.pxi\u001b[0m in \u001b[0;36mpandas._libs.hashtable.PyObjectHashTable.get_item\u001b[0;34m()\u001b[0m\n",
      "\u001b[0;32mpandas/_libs/hashtable_class_helper.pxi\u001b[0m in \u001b[0;36mpandas._libs.hashtable.PyObjectHashTable.get_item\u001b[0;34m()\u001b[0m\n",
      "\u001b[0;31mKeyError\u001b[0m: 'ageapplicant'",
      "\nThe above exception was the direct cause of the following exception:\n",
      "\u001b[0;31mKeyError\u001b[0m                                  Traceback (most recent call last)",
      "\u001b[0;32m/tmp/ipykernel_37128/3758087896.py\u001b[0m in \u001b[0;36m<module>\u001b[0;34m\u001b[0m\n\u001b[1;32m      5\u001b[0m     \u001b[0;32mreturn\u001b[0m \u001b[0mdf\u001b[0m\u001b[0;34m\u001b[0m\u001b[0;34m\u001b[0m\u001b[0m\n\u001b[1;32m      6\u001b[0m \u001b[0;34m\u001b[0m\u001b[0m\n\u001b[0;32m----> 7\u001b[0;31m \u001b[0mloan_data\u001b[0m \u001b[0;34m=\u001b[0m \u001b[0mprocess_categorical_variables\u001b[0m\u001b[0;34m(\u001b[0m\u001b[0mloan_data\u001b[0m\u001b[0;34m,\u001b[0m \u001b[0mcategorical_variables\u001b[0m\u001b[0;34m)\u001b[0m\u001b[0;34m\u001b[0m\u001b[0;34m\u001b[0m\u001b[0m\n\u001b[0m",
      "\u001b[0;32m/tmp/ipykernel_37128/3758087896.py\u001b[0m in \u001b[0;36mprocess_categorical_variables\u001b[0;34m(df, variable_list)\u001b[0m\n\u001b[1;32m      2\u001b[0m     \u001b[0;31m# set types as category\u001b[0m\u001b[0;34m\u001b[0m\u001b[0;34m\u001b[0m\u001b[0m\n\u001b[1;32m      3\u001b[0m     \u001b[0;32mfor\u001b[0m \u001b[0mvariable\u001b[0m \u001b[0;32min\u001b[0m \u001b[0mvariable_list\u001b[0m\u001b[0;34m:\u001b[0m\u001b[0;34m\u001b[0m\u001b[0;34m\u001b[0m\u001b[0m\n\u001b[0;32m----> 4\u001b[0;31m         \u001b[0mdf\u001b[0m\u001b[0;34m[\u001b[0m\u001b[0mvariable\u001b[0m\u001b[0;34m]\u001b[0m \u001b[0;34m=\u001b[0m \u001b[0mdf\u001b[0m\u001b[0;34m[\u001b[0m\u001b[0mvariable\u001b[0m\u001b[0;34m]\u001b[0m\u001b[0;34m.\u001b[0m\u001b[0mastype\u001b[0m\u001b[0;34m(\u001b[0m\u001b[0;34m\"category\"\u001b[0m\u001b[0;34m)\u001b[0m\u001b[0;34m\u001b[0m\u001b[0;34m\u001b[0m\u001b[0m\n\u001b[0m\u001b[1;32m      5\u001b[0m     \u001b[0;32mreturn\u001b[0m \u001b[0mdf\u001b[0m\u001b[0;34m\u001b[0m\u001b[0;34m\u001b[0m\u001b[0m\n\u001b[1;32m      6\u001b[0m \u001b[0;34m\u001b[0m\u001b[0m\n",
      "\u001b[0;32m~/anaconda3/envs/data-science/lib/python3.10/site-packages/pandas/core/frame.py\u001b[0m in \u001b[0;36m__getitem__\u001b[0;34m(self, key)\u001b[0m\n\u001b[1;32m   3503\u001b[0m             \u001b[0;32mif\u001b[0m \u001b[0mself\u001b[0m\u001b[0;34m.\u001b[0m\u001b[0mcolumns\u001b[0m\u001b[0;34m.\u001b[0m\u001b[0mnlevels\u001b[0m \u001b[0;34m>\u001b[0m \u001b[0;36m1\u001b[0m\u001b[0;34m:\u001b[0m\u001b[0;34m\u001b[0m\u001b[0;34m\u001b[0m\u001b[0m\n\u001b[1;32m   3504\u001b[0m                 \u001b[0;32mreturn\u001b[0m \u001b[0mself\u001b[0m\u001b[0;34m.\u001b[0m\u001b[0m_getitem_multilevel\u001b[0m\u001b[0;34m(\u001b[0m\u001b[0mkey\u001b[0m\u001b[0;34m)\u001b[0m\u001b[0;34m\u001b[0m\u001b[0;34m\u001b[0m\u001b[0m\n\u001b[0;32m-> 3505\u001b[0;31m             \u001b[0mindexer\u001b[0m \u001b[0;34m=\u001b[0m \u001b[0mself\u001b[0m\u001b[0;34m.\u001b[0m\u001b[0mcolumns\u001b[0m\u001b[0;34m.\u001b[0m\u001b[0mget_loc\u001b[0m\u001b[0;34m(\u001b[0m\u001b[0mkey\u001b[0m\u001b[0;34m)\u001b[0m\u001b[0;34m\u001b[0m\u001b[0;34m\u001b[0m\u001b[0m\n\u001b[0m\u001b[1;32m   3506\u001b[0m             \u001b[0;32mif\u001b[0m \u001b[0mis_integer\u001b[0m\u001b[0;34m(\u001b[0m\u001b[0mindexer\u001b[0m\u001b[0;34m)\u001b[0m\u001b[0;34m:\u001b[0m\u001b[0;34m\u001b[0m\u001b[0;34m\u001b[0m\u001b[0m\n\u001b[1;32m   3507\u001b[0m                 \u001b[0mindexer\u001b[0m \u001b[0;34m=\u001b[0m \u001b[0;34m[\u001b[0m\u001b[0mindexer\u001b[0m\u001b[0;34m]\u001b[0m\u001b[0;34m\u001b[0m\u001b[0;34m\u001b[0m\u001b[0m\n",
      "\u001b[0;32m~/anaconda3/envs/data-science/lib/python3.10/site-packages/pandas/core/indexes/base.py\u001b[0m in \u001b[0;36mget_loc\u001b[0;34m(self, key, method, tolerance)\u001b[0m\n\u001b[1;32m   3629\u001b[0m                 \u001b[0;32mreturn\u001b[0m \u001b[0mself\u001b[0m\u001b[0;34m.\u001b[0m\u001b[0m_engine\u001b[0m\u001b[0;34m.\u001b[0m\u001b[0mget_loc\u001b[0m\u001b[0;34m(\u001b[0m\u001b[0mcasted_key\u001b[0m\u001b[0;34m)\u001b[0m\u001b[0;34m\u001b[0m\u001b[0;34m\u001b[0m\u001b[0m\n\u001b[1;32m   3630\u001b[0m             \u001b[0;32mexcept\u001b[0m \u001b[0mKeyError\u001b[0m \u001b[0;32mas\u001b[0m \u001b[0merr\u001b[0m\u001b[0;34m:\u001b[0m\u001b[0;34m\u001b[0m\u001b[0;34m\u001b[0m\u001b[0m\n\u001b[0;32m-> 3631\u001b[0;31m                 \u001b[0;32mraise\u001b[0m \u001b[0mKeyError\u001b[0m\u001b[0;34m(\u001b[0m\u001b[0mkey\u001b[0m\u001b[0;34m)\u001b[0m \u001b[0;32mfrom\u001b[0m \u001b[0merr\u001b[0m\u001b[0;34m\u001b[0m\u001b[0;34m\u001b[0m\u001b[0m\n\u001b[0m\u001b[1;32m   3632\u001b[0m             \u001b[0;32mexcept\u001b[0m \u001b[0mTypeError\u001b[0m\u001b[0;34m:\u001b[0m\u001b[0;34m\u001b[0m\u001b[0;34m\u001b[0m\u001b[0m\n\u001b[1;32m   3633\u001b[0m                 \u001b[0;31m# If we have a listlike key, _check_indexing_error will raise\u001b[0m\u001b[0;34m\u001b[0m\u001b[0;34m\u001b[0m\u001b[0m\n",
      "\u001b[0;31mKeyError\u001b[0m: 'ageapplicant'"
     ]
    }
   ],
   "source": [
    "def process_categorical_variables(df, variable_list):\n",
    "    # set types as category\n",
    "    for variable in variable_list:\n",
    "        df[variable] = df[variable].astype(\"category\")\n",
    "    return df\n",
    "\n",
    "loan_data = process_categorical_variables(loan_data, categorical_variables)"
   ]
  },
  {
   "cell_type": "code",
   "execution_count": null,
   "id": "226a3baa",
   "metadata": {},
   "outputs": [],
   "source": [
    "loan_data.head(10)"
   ]
  },
  {
   "cell_type": "code",
   "execution_count": null,
   "id": "5735291e",
   "metadata": {},
   "outputs": [],
   "source": [
    "corr=loan_data.corr()\n",
    "corr.style.background_gradient(cmap='coolwarm')"
   ]
  },
  {
   "cell_type": "code",
   "execution_count": null,
   "id": "3a6f6088",
   "metadata": {},
   "outputs": [],
   "source": [
    "corr[\"absolute_correlation\"] = corr[\"action_taken\"].abs()\n",
    "corr = corr.sort_values(by=[\"absolute_correlation\"], ascending=False)\n",
    "corr[\"absolute_correlation\"]"
   ]
  },
  {
   "cell_type": "code",
   "execution_count": null,
   "id": "4f3477e4",
   "metadata": {},
   "outputs": [],
   "source": []
  }
 ],
 "metadata": {
  "kernelspec": {
   "display_name": "Python 3 (ipykernel)",
   "language": "python",
   "name": "python3"
  },
  "language_info": {
   "codemirror_mode": {
    "name": "ipython",
    "version": 3
   },
   "file_extension": ".py",
   "mimetype": "text/x-python",
   "name": "python",
   "nbconvert_exporter": "python",
   "pygments_lexer": "ipython3",
   "version": "3.10.4"
  }
 },
 "nbformat": 4,
 "nbformat_minor": 5
}
