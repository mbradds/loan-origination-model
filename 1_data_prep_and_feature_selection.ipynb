{
 "cells": [
  {
   "cell_type": "markdown",
   "id": "874b13b2",
   "metadata": {},
   "source": [
    "## 1. Data Preperation"
   ]
  },
  {
   "cell_type": "markdown",
   "id": "69542dd1",
   "metadata": {},
   "source": [
    "Notes\n",
    "\n",
    "This is going to be a logistic regression/ml classification model (supervised)\n",
    "- https://towardsdatascience.com/7-ways-to-handle-missing-values-in-machine-learning-1a6326adf79e\n",
    "- https://towardsdatascience.com/the-definitive-way-to-deal-with-continuous-variables-in-machine-learning-edb5472a2538\n",
    "- https://medium.com/@data.science.enthusiast/feature-selection-techniques-forward-backward-wrapper-selection-9587f3c70cfa\n",
    "- https://towardsdatascience.com/building-classification-models-with-sklearn-6a8fd107f0c1\n",
    "- https://scikit-learn.org/stable/modules/feature_selection.html\n",
    "- https://machinelearningmastery.com/standardscaler-and-minmaxscaler-transforms-in-python/\n",
    "- https://scikit-learn.org/stable/modules/generated/sklearn.preprocessing.StandardScaler.html#sklearn.preprocessing.StandardScaler\n",
    "- https://towardsdatascience.com/multi-collinearity-in-regression-fe7a2c1467ea\n",
    "- https://machinelearningmastery.com/one-hot-encoding-for-categorical-data/\n",
    "- https://inria.github.io/scikit-learn-mooc/python_scripts/03_categorical_pipeline_column_transformer.html"
   ]
  },
  {
   "cell_type": "code",
   "execution_count": 20,
   "id": "2c0a4249",
   "metadata": {},
   "outputs": [],
   "source": [
    "import timeit\n",
    "start = timeit.default_timer()"
   ]
  },
  {
   "cell_type": "code",
   "execution_count": 21,
   "id": "7e3e68c9",
   "metadata": {},
   "outputs": [],
   "source": [
    "import pandas as pd\n",
    "import numpy as np\n",
    "from util import dependent_variable, categorical_variables, continuous_variables\n",
    "from util import get_data, set_cwd_to_script, pre_process_loan_data, back_to_df, get_x_and_y, column_standardizer\n",
    "from sklearn.model_selection import train_test_split\n",
    "from sklearn.linear_model import LogisticRegression, LogisticRegressionCV\n",
    "from sklearn.utils import shuffle\n",
    "from util import feature_selection, get_train_test_data, limit_data, sklearn_pre_process_loan_data, evaluate_model\n",
    "\n",
    "result_scores = {}\n",
    "set_cwd_to_script()\n",
    "pd.set_option('display.max_rows', 500)"
   ]
  },
  {
   "cell_type": "markdown",
   "id": "d2bb6911",
   "metadata": {},
   "source": [
    "Data Prep steps:\n",
    "- Deal with blank data. This is done by removing variables that have more than 50% blank data.\n",
    "- Remove useless variables. Variables with low variance (one observation) do not add anything to the model and should be removed.\n",
    "- Process categorical varialbes.\n",
    "- Process continuous variables.\n",
    "- Deal with multicolinarity and heteroskedasticity of continuous numeric variables."
   ]
  },
  {
   "cell_type": "code",
   "execution_count": 22,
   "id": "cc0b4160",
   "metadata": {},
   "outputs": [],
   "source": [
    "loan_data = get_data(\"state_IL_application.csv\")"
   ]
  },
  {
   "cell_type": "code",
   "execution_count": 23,
   "id": "96c0faf0",
   "metadata": {},
   "outputs": [
    {
     "name": "stdout",
     "output_type": "stream",
     "text": [
      "invalid loan outcomes removed\n",
      "14 variables with high missing variables removed\n",
      "1 variables with low variance removed\n",
      "categorical variables processed\n",
      "continuous variables standardized\n",
      "High correlation (0.9274994062264686) between tract_population and tract_owner_occupied_units ,condider removing from model to avoid multicolinearity\n",
      "High correlation (0.9274994062264686) between tract_owner_occupied_units and tract_population ,condider removing from model to avoid multicolinearity\n",
      "High correlation (0.9035724956862088) between tract_owner_occupied_units and tract_one_to_four_family_homes ,condider removing from model to avoid multicolinearity\n",
      "High correlation (0.9035724956862088) between tract_one_to_four_family_homes and tract_owner_occupied_units ,condider removing from model to avoid multicolinearity\n"
     ]
    }
   ],
   "source": [
    "loan_data = pre_process_loan_data(loan_data, categorical_variables, continuous_variables, True, True)"
   ]
  },
  {
   "cell_type": "code",
   "execution_count": 24,
   "id": "c034b8de",
   "metadata": {},
   "outputs": [
    {
     "data": {
      "text/plain": [
       "(536543, 53)"
      ]
     },
     "execution_count": 24,
     "metadata": {},
     "output_type": "execute_result"
    }
   ],
   "source": [
    "loan_data.shape"
   ]
  },
  {
   "cell_type": "code",
   "execution_count": 25,
   "id": "c0fe2752",
   "metadata": {},
   "outputs": [
    {
     "data": {
      "text/plain": [
       "(10000, 206)"
      ]
     },
     "execution_count": 25,
     "metadata": {},
     "output_type": "execute_result"
    }
   ],
   "source": [
    "# data to be copied for all models\n",
    "# loan_data = shuffle(loan_data)\n",
    "model_data_processed, y, preprocessor = sklearn_pre_process_loan_data(loan_data, limit=10000)\n",
    "model_data_processed.shape"
   ]
  },
  {
   "cell_type": "code",
   "execution_count": 26,
   "id": "cbbf94eb",
   "metadata": {},
   "outputs": [
    {
     "data": {
      "text/html": [
       "<div>\n",
       "<style scoped>\n",
       "    .dataframe tbody tr th:only-of-type {\n",
       "        vertical-align: middle;\n",
       "    }\n",
       "\n",
       "    .dataframe tbody tr th {\n",
       "        vertical-align: top;\n",
       "    }\n",
       "\n",
       "    .dataframe thead th {\n",
       "        text-align: right;\n",
       "    }\n",
       "</style>\n",
       "<table border=\"1\" class=\"dataframe\">\n",
       "  <thead>\n",
       "    <tr style=\"text-align: right;\">\n",
       "      <th></th>\n",
       "      <th>one hot encoder__activity_year_0</th>\n",
       "      <th>one hot encoder__derived_msa-md_0</th>\n",
       "      <th>one hot encoder__derived_msa-md_1</th>\n",
       "      <th>one hot encoder__derived_msa-md_3</th>\n",
       "      <th>one hot encoder__derived_msa-md_4</th>\n",
       "      <th>one hot encoder__derived_msa-md_5</th>\n",
       "      <th>one hot encoder__derived_msa-md_6</th>\n",
       "      <th>one hot encoder__derived_msa-md_7</th>\n",
       "      <th>one hot encoder__derived_msa-md_8</th>\n",
       "      <th>one hot encoder__derived_msa-md_9</th>\n",
       "      <th>...</th>\n",
       "      <th>standard_scaler__loan_term</th>\n",
       "      <th>standard_scaler__property_value</th>\n",
       "      <th>standard_scaler__income</th>\n",
       "      <th>standard_scaler__tract_population</th>\n",
       "      <th>standard_scaler__tract_minority_population_percent</th>\n",
       "      <th>standard_scaler__ffiec_msa_md_median_family_income</th>\n",
       "      <th>standard_scaler__tract_to_msa_income_percentage</th>\n",
       "      <th>standard_scaler__tract_owner_occupied_units</th>\n",
       "      <th>standard_scaler__tract_one_to_four_family_homes</th>\n",
       "      <th>standard_scaler__tract_median_age_of_housing_units</th>\n",
       "    </tr>\n",
       "  </thead>\n",
       "  <tbody>\n",
       "    <tr>\n",
       "      <th>0</th>\n",
       "      <td>1.0</td>\n",
       "      <td>0.0</td>\n",
       "      <td>0.0</td>\n",
       "      <td>0.0</td>\n",
       "      <td>0.0</td>\n",
       "      <td>0.0</td>\n",
       "      <td>0.0</td>\n",
       "      <td>0.0</td>\n",
       "      <td>0.0</td>\n",
       "      <td>1.0</td>\n",
       "      <td>...</td>\n",
       "      <td>-1.543517</td>\n",
       "      <td>-0.078579</td>\n",
       "      <td>0.565165</td>\n",
       "      <td>7.131755</td>\n",
       "      <td>-0.129885</td>\n",
       "      <td>0.955473</td>\n",
       "      <td>-0.053076</td>\n",
       "      <td>6.350356</td>\n",
       "      <td>6.732349</td>\n",
       "      <td>-1.610511</td>\n",
       "    </tr>\n",
       "    <tr>\n",
       "      <th>1</th>\n",
       "      <td>1.0</td>\n",
       "      <td>0.0</td>\n",
       "      <td>0.0</td>\n",
       "      <td>0.0</td>\n",
       "      <td>0.0</td>\n",
       "      <td>0.0</td>\n",
       "      <td>0.0</td>\n",
       "      <td>0.0</td>\n",
       "      <td>0.0</td>\n",
       "      <td>0.0</td>\n",
       "      <td>...</td>\n",
       "      <td>-0.006990</td>\n",
       "      <td>-0.006652</td>\n",
       "      <td>-0.944198</td>\n",
       "      <td>-0.200547</td>\n",
       "      <td>-0.638418</td>\n",
       "      <td>-2.014871</td>\n",
       "      <td>-0.524803</td>\n",
       "      <td>0.038484</td>\n",
       "      <td>0.403727</td>\n",
       "      <td>0.851515</td>\n",
       "    </tr>\n",
       "    <tr>\n",
       "      <th>2</th>\n",
       "      <td>1.0</td>\n",
       "      <td>0.0</td>\n",
       "      <td>0.0</td>\n",
       "      <td>0.0</td>\n",
       "      <td>0.0</td>\n",
       "      <td>1.0</td>\n",
       "      <td>0.0</td>\n",
       "      <td>0.0</td>\n",
       "      <td>0.0</td>\n",
       "      <td>0.0</td>\n",
       "      <td>...</td>\n",
       "      <td>0.631251</td>\n",
       "      <td>0.399292</td>\n",
       "      <td>0.038823</td>\n",
       "      <td>-0.693130</td>\n",
       "      <td>-0.829948</td>\n",
       "      <td>0.067658</td>\n",
       "      <td>3.463434</td>\n",
       "      <td>-0.674759</td>\n",
       "      <td>-0.668542</td>\n",
       "      <td>0.799132</td>\n",
       "    </tr>\n",
       "    <tr>\n",
       "      <th>3</th>\n",
       "      <td>1.0</td>\n",
       "      <td>0.0</td>\n",
       "      <td>0.0</td>\n",
       "      <td>0.0</td>\n",
       "      <td>0.0</td>\n",
       "      <td>1.0</td>\n",
       "      <td>0.0</td>\n",
       "      <td>0.0</td>\n",
       "      <td>0.0</td>\n",
       "      <td>0.0</td>\n",
       "      <td>...</td>\n",
       "      <td>0.631251</td>\n",
       "      <td>0.501693</td>\n",
       "      <td>1.091507</td>\n",
       "      <td>-0.498935</td>\n",
       "      <td>-0.596040</td>\n",
       "      <td>0.067658</td>\n",
       "      <td>3.270455</td>\n",
       "      <td>-0.625981</td>\n",
       "      <td>-0.499390</td>\n",
       "      <td>-0.091388</td>\n",
       "    </tr>\n",
       "    <tr>\n",
       "      <th>4</th>\n",
       "      <td>1.0</td>\n",
       "      <td>0.0</td>\n",
       "      <td>0.0</td>\n",
       "      <td>0.0</td>\n",
       "      <td>0.0</td>\n",
       "      <td>0.0</td>\n",
       "      <td>0.0</td>\n",
       "      <td>0.0</td>\n",
       "      <td>0.0</td>\n",
       "      <td>0.0</td>\n",
       "      <td>...</td>\n",
       "      <td>0.631251</td>\n",
       "      <td>0.046578</td>\n",
       "      <td>0.565165</td>\n",
       "      <td>0.353973</td>\n",
       "      <td>-0.227520</td>\n",
       "      <td>-0.173477</td>\n",
       "      <td>0.954705</td>\n",
       "      <td>0.457975</td>\n",
       "      <td>0.372619</td>\n",
       "      <td>-1.243826</td>\n",
       "    </tr>\n",
       "  </tbody>\n",
       "</table>\n",
       "<p>5 rows × 206 columns</p>\n",
       "</div>"
      ],
      "text/plain": [
       "   one hot encoder__activity_year_0  one hot encoder__derived_msa-md_0  \\\n",
       "0                               1.0                                0.0   \n",
       "1                               1.0                                0.0   \n",
       "2                               1.0                                0.0   \n",
       "3                               1.0                                0.0   \n",
       "4                               1.0                                0.0   \n",
       "\n",
       "   one hot encoder__derived_msa-md_1  one hot encoder__derived_msa-md_3  \\\n",
       "0                                0.0                                0.0   \n",
       "1                                0.0                                0.0   \n",
       "2                                0.0                                0.0   \n",
       "3                                0.0                                0.0   \n",
       "4                                0.0                                0.0   \n",
       "\n",
       "   one hot encoder__derived_msa-md_4  one hot encoder__derived_msa-md_5  \\\n",
       "0                                0.0                                0.0   \n",
       "1                                0.0                                0.0   \n",
       "2                                0.0                                1.0   \n",
       "3                                0.0                                1.0   \n",
       "4                                0.0                                0.0   \n",
       "\n",
       "   one hot encoder__derived_msa-md_6  one hot encoder__derived_msa-md_7  \\\n",
       "0                                0.0                                0.0   \n",
       "1                                0.0                                0.0   \n",
       "2                                0.0                                0.0   \n",
       "3                                0.0                                0.0   \n",
       "4                                0.0                                0.0   \n",
       "\n",
       "   one hot encoder__derived_msa-md_8  one hot encoder__derived_msa-md_9  ...  \\\n",
       "0                                0.0                                1.0  ...   \n",
       "1                                0.0                                0.0  ...   \n",
       "2                                0.0                                0.0  ...   \n",
       "3                                0.0                                0.0  ...   \n",
       "4                                0.0                                0.0  ...   \n",
       "\n",
       "   standard_scaler__loan_term  standard_scaler__property_value  \\\n",
       "0                   -1.543517                        -0.078579   \n",
       "1                   -0.006990                        -0.006652   \n",
       "2                    0.631251                         0.399292   \n",
       "3                    0.631251                         0.501693   \n",
       "4                    0.631251                         0.046578   \n",
       "\n",
       "   standard_scaler__income  standard_scaler__tract_population  \\\n",
       "0                 0.565165                           7.131755   \n",
       "1                -0.944198                          -0.200547   \n",
       "2                 0.038823                          -0.693130   \n",
       "3                 1.091507                          -0.498935   \n",
       "4                 0.565165                           0.353973   \n",
       "\n",
       "   standard_scaler__tract_minority_population_percent  \\\n",
       "0                                          -0.129885    \n",
       "1                                          -0.638418    \n",
       "2                                          -0.829948    \n",
       "3                                          -0.596040    \n",
       "4                                          -0.227520    \n",
       "\n",
       "   standard_scaler__ffiec_msa_md_median_family_income  \\\n",
       "0                                           0.955473    \n",
       "1                                          -2.014871    \n",
       "2                                           0.067658    \n",
       "3                                           0.067658    \n",
       "4                                          -0.173477    \n",
       "\n",
       "   standard_scaler__tract_to_msa_income_percentage  \\\n",
       "0                                        -0.053076   \n",
       "1                                        -0.524803   \n",
       "2                                         3.463434   \n",
       "3                                         3.270455   \n",
       "4                                         0.954705   \n",
       "\n",
       "   standard_scaler__tract_owner_occupied_units  \\\n",
       "0                                     6.350356   \n",
       "1                                     0.038484   \n",
       "2                                    -0.674759   \n",
       "3                                    -0.625981   \n",
       "4                                     0.457975   \n",
       "\n",
       "   standard_scaler__tract_one_to_four_family_homes  \\\n",
       "0                                         6.732349   \n",
       "1                                         0.403727   \n",
       "2                                        -0.668542   \n",
       "3                                        -0.499390   \n",
       "4                                         0.372619   \n",
       "\n",
       "   standard_scaler__tract_median_age_of_housing_units  \n",
       "0                                          -1.610511   \n",
       "1                                           0.851515   \n",
       "2                                           0.799132   \n",
       "3                                          -0.091388   \n",
       "4                                          -1.243826   \n",
       "\n",
       "[5 rows x 206 columns]"
      ]
     },
     "execution_count": 26,
     "metadata": {},
     "output_type": "execute_result"
    }
   ],
   "source": [
    "model_data_processed.head()"
   ]
  },
  {
   "cell_type": "code",
   "execution_count": 27,
   "id": "c1482d3d",
   "metadata": {},
   "outputs": [
    {
     "data": {
      "text/html": [
       "<style>#sk-container-id-3 {color: black;background-color: white;}#sk-container-id-3 pre{padding: 0;}#sk-container-id-3 div.sk-toggleable {background-color: white;}#sk-container-id-3 label.sk-toggleable__label {cursor: pointer;display: block;width: 100%;margin-bottom: 0;padding: 0.3em;box-sizing: border-box;text-align: center;}#sk-container-id-3 label.sk-toggleable__label-arrow:before {content: \"▸\";float: left;margin-right: 0.25em;color: #696969;}#sk-container-id-3 label.sk-toggleable__label-arrow:hover:before {color: black;}#sk-container-id-3 div.sk-estimator:hover label.sk-toggleable__label-arrow:before {color: black;}#sk-container-id-3 div.sk-toggleable__content {max-height: 0;max-width: 0;overflow: hidden;text-align: left;background-color: #f0f8ff;}#sk-container-id-3 div.sk-toggleable__content pre {margin: 0.2em;color: black;border-radius: 0.25em;background-color: #f0f8ff;}#sk-container-id-3 input.sk-toggleable__control:checked~div.sk-toggleable__content {max-height: 200px;max-width: 100%;overflow: auto;}#sk-container-id-3 input.sk-toggleable__control:checked~label.sk-toggleable__label-arrow:before {content: \"▾\";}#sk-container-id-3 div.sk-estimator input.sk-toggleable__control:checked~label.sk-toggleable__label {background-color: #d4ebff;}#sk-container-id-3 div.sk-label input.sk-toggleable__control:checked~label.sk-toggleable__label {background-color: #d4ebff;}#sk-container-id-3 input.sk-hidden--visually {border: 0;clip: rect(1px 1px 1px 1px);clip: rect(1px, 1px, 1px, 1px);height: 1px;margin: -1px;overflow: hidden;padding: 0;position: absolute;width: 1px;}#sk-container-id-3 div.sk-estimator {font-family: monospace;background-color: #f0f8ff;border: 1px dotted black;border-radius: 0.25em;box-sizing: border-box;margin-bottom: 0.5em;}#sk-container-id-3 div.sk-estimator:hover {background-color: #d4ebff;}#sk-container-id-3 div.sk-parallel-item::after {content: \"\";width: 100%;border-bottom: 1px solid gray;flex-grow: 1;}#sk-container-id-3 div.sk-label:hover label.sk-toggleable__label {background-color: #d4ebff;}#sk-container-id-3 div.sk-serial::before {content: \"\";position: absolute;border-left: 1px solid gray;box-sizing: border-box;top: 0;bottom: 0;left: 50%;z-index: 0;}#sk-container-id-3 div.sk-serial {display: flex;flex-direction: column;align-items: center;background-color: white;padding-right: 0.2em;padding-left: 0.2em;position: relative;}#sk-container-id-3 div.sk-item {position: relative;z-index: 1;}#sk-container-id-3 div.sk-parallel {display: flex;align-items: stretch;justify-content: center;background-color: white;position: relative;}#sk-container-id-3 div.sk-item::before, #sk-container-id-3 div.sk-parallel-item::before {content: \"\";position: absolute;border-left: 1px solid gray;box-sizing: border-box;top: 0;bottom: 0;left: 50%;z-index: -1;}#sk-container-id-3 div.sk-parallel-item {display: flex;flex-direction: column;z-index: 1;position: relative;background-color: white;}#sk-container-id-3 div.sk-parallel-item:first-child::after {align-self: flex-end;width: 50%;}#sk-container-id-3 div.sk-parallel-item:last-child::after {align-self: flex-start;width: 50%;}#sk-container-id-3 div.sk-parallel-item:only-child::after {width: 0;}#sk-container-id-3 div.sk-dashed-wrapped {border: 1px dashed gray;margin: 0 0.4em 0.5em 0.4em;box-sizing: border-box;padding-bottom: 0.4em;background-color: white;}#sk-container-id-3 div.sk-label label {font-family: monospace;font-weight: bold;display: inline-block;line-height: 1.2em;}#sk-container-id-3 div.sk-label-container {text-align: center;}#sk-container-id-3 div.sk-container {/* jupyter's `normalize.less` sets `[hidden] { display: none; }` but bootstrap.min.css set `[hidden] { display: none !important; }` so we also need the `!important` here to be able to override the default hidden behavior on the sphinx rendered scikit-learn.org. See: https://github.com/scikit-learn/scikit-learn/issues/21755 */display: inline-block !important;position: relative;}#sk-container-id-3 div.sk-text-repr-fallback {display: none;}</style><div id=\"sk-container-id-3\" class=\"sk-top-container\"><div class=\"sk-text-repr-fallback\"><pre>Pipeline(steps=[(&#x27;columntransformer&#x27;,\n",
       "                 ColumnTransformer(remainder=&#x27;passthrough&#x27;,\n",
       "                                   transformers=[(&#x27;one hot encoder&#x27;,\n",
       "                                                  OneHotEncoder(handle_unknown=&#x27;ignore&#x27;),\n",
       "                                                  [&#x27;activity_year&#x27;,\n",
       "                                                   &#x27;derived_msa-md&#x27;,\n",
       "                                                   &#x27;conforming_loan_limit&#x27;,\n",
       "                                                   &#x27;derived_loan_product_type&#x27;,\n",
       "                                                   &#x27;derived_dwelling_category&#x27;,\n",
       "                                                   &#x27;purchaser_type&#x27;,\n",
       "                                                   &#x27;preapproval&#x27;, &#x27;loan_type&#x27;,\n",
       "                                                   &#x27;loan_purpose&#x27;,\n",
       "                                                   &#x27;lien_status&#x27;,\n",
       "                                                   &#x27;reverse_mortga...\n",
       "                                                   &#x27;loan_term&#x27;,\n",
       "                                                   &#x27;property_value&#x27;, &#x27;income&#x27;,\n",
       "                                                   &#x27;tract_population&#x27;,\n",
       "                                                   &#x27;tract_minority_population_percent&#x27;,\n",
       "                                                   &#x27;ffiec_msa_md_median_family_income&#x27;,\n",
       "                                                   &#x27;tract_to_msa_income_percentage&#x27;,\n",
       "                                                   &#x27;tract_owner_occupied_units&#x27;,\n",
       "                                                   &#x27;tract_one_to_four_family_homes&#x27;,\n",
       "                                                   &#x27;tract_median_age_of_housing_units&#x27;])])),\n",
       "                (&#x27;functiontransformer&#x27;,\n",
       "                 FunctionTransformer(func=&lt;function back_to_df at 0x7fbc07af56c0&gt;))])</pre><b>In a Jupyter environment, please rerun this cell to show the HTML representation or trust the notebook. <br />On GitHub, the HTML representation is unable to render, please try loading this page with nbviewer.org.</b></div><div class=\"sk-container\" hidden><div class=\"sk-item sk-dashed-wrapped\"><div class=\"sk-label-container\"><div class=\"sk-label sk-toggleable\"><input class=\"sk-toggleable__control sk-hidden--visually\" id=\"sk-estimator-id-19\" type=\"checkbox\" ><label for=\"sk-estimator-id-19\" class=\"sk-toggleable__label sk-toggleable__label-arrow\">Pipeline</label><div class=\"sk-toggleable__content\"><pre>Pipeline(steps=[(&#x27;columntransformer&#x27;,\n",
       "                 ColumnTransformer(remainder=&#x27;passthrough&#x27;,\n",
       "                                   transformers=[(&#x27;one hot encoder&#x27;,\n",
       "                                                  OneHotEncoder(handle_unknown=&#x27;ignore&#x27;),\n",
       "                                                  [&#x27;activity_year&#x27;,\n",
       "                                                   &#x27;derived_msa-md&#x27;,\n",
       "                                                   &#x27;conforming_loan_limit&#x27;,\n",
       "                                                   &#x27;derived_loan_product_type&#x27;,\n",
       "                                                   &#x27;derived_dwelling_category&#x27;,\n",
       "                                                   &#x27;purchaser_type&#x27;,\n",
       "                                                   &#x27;preapproval&#x27;, &#x27;loan_type&#x27;,\n",
       "                                                   &#x27;loan_purpose&#x27;,\n",
       "                                                   &#x27;lien_status&#x27;,\n",
       "                                                   &#x27;reverse_mortga...\n",
       "                                                   &#x27;loan_term&#x27;,\n",
       "                                                   &#x27;property_value&#x27;, &#x27;income&#x27;,\n",
       "                                                   &#x27;tract_population&#x27;,\n",
       "                                                   &#x27;tract_minority_population_percent&#x27;,\n",
       "                                                   &#x27;ffiec_msa_md_median_family_income&#x27;,\n",
       "                                                   &#x27;tract_to_msa_income_percentage&#x27;,\n",
       "                                                   &#x27;tract_owner_occupied_units&#x27;,\n",
       "                                                   &#x27;tract_one_to_four_family_homes&#x27;,\n",
       "                                                   &#x27;tract_median_age_of_housing_units&#x27;])])),\n",
       "                (&#x27;functiontransformer&#x27;,\n",
       "                 FunctionTransformer(func=&lt;function back_to_df at 0x7fbc07af56c0&gt;))])</pre></div></div></div><div class=\"sk-serial\"><div class=\"sk-item sk-dashed-wrapped\"><div class=\"sk-label-container\"><div class=\"sk-label sk-toggleable\"><input class=\"sk-toggleable__control sk-hidden--visually\" id=\"sk-estimator-id-20\" type=\"checkbox\" ><label for=\"sk-estimator-id-20\" class=\"sk-toggleable__label sk-toggleable__label-arrow\">columntransformer: ColumnTransformer</label><div class=\"sk-toggleable__content\"><pre>ColumnTransformer(remainder=&#x27;passthrough&#x27;,\n",
       "                  transformers=[(&#x27;one hot encoder&#x27;,\n",
       "                                 OneHotEncoder(handle_unknown=&#x27;ignore&#x27;),\n",
       "                                 [&#x27;activity_year&#x27;, &#x27;derived_msa-md&#x27;,\n",
       "                                  &#x27;conforming_loan_limit&#x27;,\n",
       "                                  &#x27;derived_loan_product_type&#x27;,\n",
       "                                  &#x27;derived_dwelling_category&#x27;, &#x27;purchaser_type&#x27;,\n",
       "                                  &#x27;preapproval&#x27;, &#x27;loan_type&#x27;, &#x27;loan_purpose&#x27;,\n",
       "                                  &#x27;lien_status&#x27;, &#x27;reverse_mortgage&#x27;,\n",
       "                                  &#x27;open-end_line_of_credit&#x27;,\n",
       "                                  &#x27;busine...\n",
       "                                  &#x27;loan_amount&#x27;, &#x27;loan_to_value_ratio&#x27;,\n",
       "                                  &#x27;interest_rate&#x27;, &#x27;rate_spread&#x27;,\n",
       "                                  &#x27;total_loan_costs&#x27;, &#x27;origination_charges&#x27;,\n",
       "                                  &#x27;loan_term&#x27;, &#x27;property_value&#x27;, &#x27;income&#x27;,\n",
       "                                  &#x27;tract_population&#x27;,\n",
       "                                  &#x27;tract_minority_population_percent&#x27;,\n",
       "                                  &#x27;ffiec_msa_md_median_family_income&#x27;,\n",
       "                                  &#x27;tract_to_msa_income_percentage&#x27;,\n",
       "                                  &#x27;tract_owner_occupied_units&#x27;,\n",
       "                                  &#x27;tract_one_to_four_family_homes&#x27;,\n",
       "                                  &#x27;tract_median_age_of_housing_units&#x27;])])</pre></div></div></div><div class=\"sk-parallel\"><div class=\"sk-parallel-item\"><div class=\"sk-item\"><div class=\"sk-label-container\"><div class=\"sk-label sk-toggleable\"><input class=\"sk-toggleable__control sk-hidden--visually\" id=\"sk-estimator-id-21\" type=\"checkbox\" ><label for=\"sk-estimator-id-21\" class=\"sk-toggleable__label sk-toggleable__label-arrow\">one hot encoder</label><div class=\"sk-toggleable__content\"><pre>[&#x27;activity_year&#x27;, &#x27;derived_msa-md&#x27;, &#x27;conforming_loan_limit&#x27;, &#x27;derived_loan_product_type&#x27;, &#x27;derived_dwelling_category&#x27;, &#x27;purchaser_type&#x27;, &#x27;preapproval&#x27;, &#x27;loan_type&#x27;, &#x27;loan_purpose&#x27;, &#x27;lien_status&#x27;, &#x27;reverse_mortgage&#x27;, &#x27;open-end_line_of_credit&#x27;, &#x27;business_or_commercial_purpose&#x27;, &#x27;hoepa_status&#x27;, &#x27;negative_amortization&#x27;, &#x27;interest_only_payment&#x27;, &#x27;balloon_payment&#x27;, &#x27;other_nonamortizing_features&#x27;, &#x27;construction_method&#x27;, &#x27;occupancy_type&#x27;, &#x27;manufactured_home_secured_property_type&#x27;, &#x27;manufactured_home_land_property_interest&#x27;, &#x27;total_units&#x27;, &#x27;debt_to_income_ratio&#x27;, &#x27;applicant_credit_score_type&#x27;, &#x27;co-applicant_credit_score_type&#x27;, &#x27;applicant_age&#x27;, &#x27;co-applicant_age&#x27;, &#x27;applicant_age_above_62&#x27;, &#x27;submission_of_application&#x27;, &#x27;initially_payable_to_institution&#x27;, &#x27;aus-1&#x27;, &#x27;denial_reason-1&#x27;]</pre></div></div></div><div class=\"sk-serial\"><div class=\"sk-item\"><div class=\"sk-estimator sk-toggleable\"><input class=\"sk-toggleable__control sk-hidden--visually\" id=\"sk-estimator-id-22\" type=\"checkbox\" ><label for=\"sk-estimator-id-22\" class=\"sk-toggleable__label sk-toggleable__label-arrow\">OneHotEncoder</label><div class=\"sk-toggleable__content\"><pre>OneHotEncoder(handle_unknown=&#x27;ignore&#x27;)</pre></div></div></div></div></div></div><div class=\"sk-parallel-item\"><div class=\"sk-item\"><div class=\"sk-label-container\"><div class=\"sk-label sk-toggleable\"><input class=\"sk-toggleable__control sk-hidden--visually\" id=\"sk-estimator-id-23\" type=\"checkbox\" ><label for=\"sk-estimator-id-23\" class=\"sk-toggleable__label sk-toggleable__label-arrow\">standard_scaler</label><div class=\"sk-toggleable__content\"><pre>[&#x27;lei&#x27;, &#x27;county_code&#x27;, &#x27;census_tract&#x27;, &#x27;loan_amount&#x27;, &#x27;loan_to_value_ratio&#x27;, &#x27;interest_rate&#x27;, &#x27;rate_spread&#x27;, &#x27;total_loan_costs&#x27;, &#x27;origination_charges&#x27;, &#x27;loan_term&#x27;, &#x27;property_value&#x27;, &#x27;income&#x27;, &#x27;tract_population&#x27;, &#x27;tract_minority_population_percent&#x27;, &#x27;ffiec_msa_md_median_family_income&#x27;, &#x27;tract_to_msa_income_percentage&#x27;, &#x27;tract_owner_occupied_units&#x27;, &#x27;tract_one_to_four_family_homes&#x27;, &#x27;tract_median_age_of_housing_units&#x27;]</pre></div></div></div><div class=\"sk-serial\"><div class=\"sk-item\"><div class=\"sk-estimator sk-toggleable\"><input class=\"sk-toggleable__control sk-hidden--visually\" id=\"sk-estimator-id-24\" type=\"checkbox\" ><label for=\"sk-estimator-id-24\" class=\"sk-toggleable__label sk-toggleable__label-arrow\">StandardScaler</label><div class=\"sk-toggleable__content\"><pre>StandardScaler()</pre></div></div></div></div></div></div><div class=\"sk-parallel-item\"><div class=\"sk-item\"><div class=\"sk-label-container\"><div class=\"sk-label sk-toggleable\"><input class=\"sk-toggleable__control sk-hidden--visually\" id=\"sk-estimator-id-25\" type=\"checkbox\" ><label for=\"sk-estimator-id-25\" class=\"sk-toggleable__label sk-toggleable__label-arrow\">remainder</label><div class=\"sk-toggleable__content\"><pre>[]</pre></div></div></div><div class=\"sk-serial\"><div class=\"sk-item\"><div class=\"sk-estimator sk-toggleable\"><input class=\"sk-toggleable__control sk-hidden--visually\" id=\"sk-estimator-id-26\" type=\"checkbox\" ><label for=\"sk-estimator-id-26\" class=\"sk-toggleable__label sk-toggleable__label-arrow\">passthrough</label><div class=\"sk-toggleable__content\"><pre>passthrough</pre></div></div></div></div></div></div></div></div><div class=\"sk-item\"><div class=\"sk-estimator sk-toggleable\"><input class=\"sk-toggleable__control sk-hidden--visually\" id=\"sk-estimator-id-27\" type=\"checkbox\" ><label for=\"sk-estimator-id-27\" class=\"sk-toggleable__label sk-toggleable__label-arrow\">FunctionTransformer</label><div class=\"sk-toggleable__content\"><pre>FunctionTransformer(func=&lt;function back_to_df at 0x7fbc07af56c0&gt;)</pre></div></div></div></div></div></div></div>"
      ],
      "text/plain": [
       "Pipeline(steps=[('columntransformer',\n",
       "                 ColumnTransformer(remainder='passthrough',\n",
       "                                   transformers=[('one hot encoder',\n",
       "                                                  OneHotEncoder(handle_unknown='ignore'),\n",
       "                                                  ['activity_year',\n",
       "                                                   'derived_msa-md',\n",
       "                                                   'conforming_loan_limit',\n",
       "                                                   'derived_loan_product_type',\n",
       "                                                   'derived_dwelling_category',\n",
       "                                                   'purchaser_type',\n",
       "                                                   'preapproval', 'loan_type',\n",
       "                                                   'loan_purpose',\n",
       "                                                   'lien_status',\n",
       "                                                   'reverse_mortga...\n",
       "                                                   'loan_term',\n",
       "                                                   'property_value', 'income',\n",
       "                                                   'tract_population',\n",
       "                                                   'tract_minority_population_percent',\n",
       "                                                   'ffiec_msa_md_median_family_income',\n",
       "                                                   'tract_to_msa_income_percentage',\n",
       "                                                   'tract_owner_occupied_units',\n",
       "                                                   'tract_one_to_four_family_homes',\n",
       "                                                   'tract_median_age_of_housing_units'])])),\n",
       "                ('functiontransformer',\n",
       "                 FunctionTransformer(func=<function back_to_df at 0x7fbc07af56c0>))])"
      ]
     },
     "execution_count": 27,
     "metadata": {},
     "output_type": "execute_result"
    }
   ],
   "source": [
    "preprocessor"
   ]
  },
  {
   "cell_type": "code",
   "execution_count": 28,
   "id": "162c4e34",
   "metadata": {},
   "outputs": [
    {
     "name": "stdout",
     "output_type": "stream",
     "text": [
      "categorical variables processed\n",
      "continuous variables standardized\n"
     ]
    }
   ],
   "source": [
    "eval_data = get_data(\"X_test.xlsx\")\n",
    "eval_data = pre_process_loan_data(eval_data, categorical_variables, continuous_variables, True, False)\n",
    "eval_data_processed, y_eval, preprocessor_eval = sklearn_pre_process_loan_data(eval_data, False, False)\n",
    "\n",
    "model_data, eval_data = column_standardizer(model_data_processed, eval_data_processed)"
   ]
  },
  {
   "cell_type": "markdown",
   "id": "65bece88",
   "metadata": {},
   "source": [
    "## 2. Model"
   ]
  },
  {
   "cell_type": "markdown",
   "id": "656bbfbb",
   "metadata": {},
   "source": [
    "### Model 1 - sklearn logistic regression with automated feature selection"
   ]
  },
  {
   "cell_type": "code",
   "execution_count": 29,
   "id": "7032ee37",
   "metadata": {},
   "outputs": [
    {
     "name": "stderr",
     "output_type": "stream",
     "text": [
      "/home/grant/anaconda3/envs/data-science/lib/python3.10/site-packages/scipy/__init__.py:146: UserWarning: A NumPy version >=1.16.5 and <1.23.0 is required for this version of SciPy (detected version 1.23.1\n",
      "  warnings.warn(f\"A NumPy version >={np_minversion} and <{np_maxversion}\"\n",
      "/home/grant/anaconda3/envs/data-science/lib/python3.10/site-packages/scipy/__init__.py:146: UserWarning: A NumPy version >=1.16.5 and <1.23.0 is required for this version of SciPy (detected version 1.23.1\n",
      "  warnings.warn(f\"A NumPy version >={np_minversion} and <{np_maxversion}\"\n",
      "/home/grant/anaconda3/envs/data-science/lib/python3.10/site-packages/scipy/__init__.py:146: UserWarning: A NumPy version >=1.16.5 and <1.23.0 is required for this version of SciPy (detected version 1.23.1\n",
      "  warnings.warn(f\"A NumPy version >={np_minversion} and <{np_maxversion}\"\n",
      "/home/grant/anaconda3/envs/data-science/lib/python3.10/site-packages/scipy/__init__.py:146: UserWarning: A NumPy version >=1.16.5 and <1.23.0 is required for this version of SciPy (detected version 1.23.1\n",
      "  warnings.warn(f\"A NumPy version >={np_minversion} and <{np_maxversion}\"\n",
      "/home/grant/anaconda3/envs/data-science/lib/python3.10/site-packages/scipy/__init__.py:146: UserWarning: A NumPy version >=1.16.5 and <1.23.0 is required for this version of SciPy (detected version 1.23.1\n",
      "  warnings.warn(f\"A NumPy version >={np_minversion} and <{np_maxversion}\"\n",
      "/home/grant/anaconda3/envs/data-science/lib/python3.10/site-packages/scipy/__init__.py:146: UserWarning: A NumPy version >=1.16.5 and <1.23.0 is required for this version of SciPy (detected version 1.23.1\n",
      "  warnings.warn(f\"A NumPy version >={np_minversion} and <{np_maxversion}\"\n",
      "/home/grant/anaconda3/envs/data-science/lib/python3.10/site-packages/scipy/__init__.py:146: UserWarning: A NumPy version >=1.16.5 and <1.23.0 is required for this version of SciPy (detected version 1.23.1\n",
      "  warnings.warn(f\"A NumPy version >={np_minversion} and <{np_maxversion}\"\n",
      "/home/grant/anaconda3/envs/data-science/lib/python3.10/site-packages/scipy/__init__.py:146: UserWarning: A NumPy version >=1.16.5 and <1.23.0 is required for this version of SciPy (detected version 1.23.1\n",
      "  warnings.warn(f\"A NumPy version >={np_minversion} and <{np_maxversion}\"\n",
      "/home/grant/anaconda3/envs/data-science/lib/python3.10/site-packages/scipy/__init__.py:146: UserWarning: A NumPy version >=1.16.5 and <1.23.0 is required for this version of SciPy (detected version 1.23.1\n",
      "  warnings.warn(f\"A NumPy version >={np_minversion} and <{np_maxversion}\"\n",
      "/home/grant/anaconda3/envs/data-science/lib/python3.10/site-packages/scipy/__init__.py:146: UserWarning: A NumPy version >=1.16.5 and <1.23.0 is required for this version of SciPy (detected version 1.23.1\n",
      "  warnings.warn(f\"A NumPy version >={np_minversion} and <{np_maxversion}\"\n",
      "/home/grant/anaconda3/envs/data-science/lib/python3.10/site-packages/scipy/__init__.py:146: UserWarning: A NumPy version >=1.16.5 and <1.23.0 is required for this version of SciPy (detected version 1.23.1\n",
      "  warnings.warn(f\"A NumPy version >={np_minversion} and <{np_maxversion}\"\n",
      "/home/grant/anaconda3/envs/data-science/lib/python3.10/site-packages/scipy/__init__.py:146: UserWarning: A NumPy version >=1.16.5 and <1.23.0 is required for this version of SciPy (detected version 1.23.1\n",
      "  warnings.warn(f\"A NumPy version >={np_minversion} and <{np_maxversion}\"\n",
      "/home/grant/anaconda3/envs/data-science/lib/python3.10/site-packages/scipy/__init__.py:146: UserWarning: A NumPy version >=1.16.5 and <1.23.0 is required for this version of SciPy (detected version 1.23.1\n",
      "  warnings.warn(f\"A NumPy version >={np_minversion} and <{np_maxversion}\"\n",
      "/home/grant/anaconda3/envs/data-science/lib/python3.10/site-packages/scipy/__init__.py:146: UserWarning: A NumPy version >=1.16.5 and <1.23.0 is required for this version of SciPy (detected version 1.23.1\n",
      "  warnings.warn(f\"A NumPy version >={np_minversion} and <{np_maxversion}\"\n",
      "/home/grant/anaconda3/envs/data-science/lib/python3.10/site-packages/scipy/__init__.py:146: UserWarning: A NumPy version >=1.16.5 and <1.23.0 is required for this version of SciPy (detected version 1.23.1\n",
      "  warnings.warn(f\"A NumPy version >={np_minversion} and <{np_maxversion}\"\n",
      "/home/grant/anaconda3/envs/data-science/lib/python3.10/site-packages/scipy/__init__.py:146: UserWarning: A NumPy version >=1.16.5 and <1.23.0 is required for this version of SciPy (detected version 1.23.1\n",
      "  warnings.warn(f\"A NumPy version >={np_minversion} and <{np_maxversion}\"\n"
     ]
    },
    {
     "name": "stdout",
     "output_type": "stream",
     "text": [
      "feature selection score:  1.0\n",
      "SFS chosen features:  ('one hot encoder__activity_year_0', 'one hot encoder__derived_msa-md_0', 'one hot encoder__derived_msa-md_1', 'one hot encoder__derived_msa-md_3', 'one hot encoder__derived_msa-md_4', 'one hot encoder__derived_msa-md_5', 'one hot encoder__derived_msa-md_6', 'one hot encoder__derived_msa-md_7', 'one hot encoder__derived_msa-md_8', 'one hot encoder__derived_msa-md_9', 'one hot encoder__derived_msa-md_10', 'one hot encoder__derived_msa-md_11', 'one hot encoder__derived_msa-md_12', 'one hot encoder__derived_msa-md_13', 'one hot encoder__derived_msa-md_14', 'one hot encoder__derived_msa-md_15', 'one hot encoder__derived_msa-md_16', 'one hot encoder__conforming_loan_limit_0', 'one hot encoder__conforming_loan_limit_1', 'one hot encoder__conforming_loan_limit_2', 'one hot encoder__derived_loan_product_type_0', 'one hot encoder__derived_loan_product_type_1', 'one hot encoder__derived_loan_product_type_2', 'one hot encoder__derived_loan_product_type_4', 'one hot encoder__derived_loan_product_type_6', 'one hot encoder__derived_dwelling_category_1', 'one hot encoder__derived_dwelling_category_2', 'one hot encoder__derived_dwelling_category_3', 'one hot encoder__purchaser_type_0', 'one hot encoder__purchaser_type_1', 'one hot encoder__purchaser_type_3', 'one hot encoder__purchaser_type_6', 'one hot encoder__purchaser_type_7', 'one hot encoder__purchaser_type_8', 'one hot encoder__purchaser_type_9', 'one hot encoder__preapproval_0', 'one hot encoder__preapproval_1', 'one hot encoder__loan_type_0', 'one hot encoder__loan_type_1', 'one hot encoder__loan_type_2', 'one hot encoder__loan_type_3', 'one hot encoder__loan_purpose_0', 'one hot encoder__loan_purpose_1', 'one hot encoder__loan_purpose_2', 'one hot encoder__loan_purpose_4', 'one hot encoder__loan_purpose_5', 'one hot encoder__lien_status_0', 'one hot encoder__lien_status_1', 'one hot encoder__reverse_mortgage_2', 'one hot encoder__open-end_line_of_credit_2', 'one hot encoder__business_or_commercial_purpose_0', 'one hot encoder__hoepa_status_0', 'one hot encoder__hoepa_status_1', 'one hot encoder__hoepa_status_2', 'one hot encoder__construction_method_0', 'one hot encoder__construction_method_1', 'one hot encoder__occupancy_type_0', 'one hot encoder__occupancy_type_1', 'one hot encoder__total_units_0', 'one hot encoder__total_units_1', 'one hot encoder__total_units_2', 'one hot encoder__total_units_3', 'one hot encoder__total_units_5', 'one hot encoder__total_units_6', 'one hot encoder__total_units_7', 'one hot encoder__total_units_8', 'one hot encoder__applicant_age_0', 'one hot encoder__applicant_age_2', 'one hot encoder__applicant_age_3', 'one hot encoder__applicant_age_5', 'one hot encoder__applicant_age_7', 'one hot encoder__co-applicant_age_1', 'one hot encoder__co-applicant_age_2', 'one hot encoder__denial_reason-1_9', 'one hot encoder__denial_reason-1_10', 'standard_scaler__tract_to_msa_income_percentage', 'standard_scaler__tract_owner_occupied_units', 'standard_scaler__tract_one_to_four_family_homes', 'standard_scaler__tract_median_age_of_housing_units')\n",
      "\n",
      "Model                  Train    Test\n",
      "-------------------------------------------\n",
      "Logistic               0.9999   0.9988\n"
     ]
    }
   ],
   "source": [
    "model1_data = model_data_processed.copy()\n",
    "features = feature_selection(model1_data.copy(), y, n=500, num_features=\"best\")\n",
    "X_train, X_test, y_train, y_test, X = get_train_test_data(model1_data, y, features)\n",
    "model1 = LogisticRegression(n_jobs=-1, max_iter=10000)\n",
    "model1.fit(X_train, y_train)\n",
    "result_scores = evaluate_model(result_scores, model1, \"Logistic\", X_train, X_test, y_train, y_test)"
   ]
  },
  {
   "cell_type": "markdown",
   "id": "2f9b254e",
   "metadata": {},
   "source": [
    "### Model 2 - Sklearn LASSO"
   ]
  },
  {
   "cell_type": "code",
   "execution_count": 30,
   "id": "547fe376",
   "metadata": {},
   "outputs": [
    {
     "name": "stdout",
     "output_type": "stream",
     "text": [
      "\n",
      "Model                  Train    Test\n",
      "-------------------------------------------\n",
      "Logistic               0.9999   0.9988\n",
      "LASSO                  0.9997   0.9988\n"
     ]
    }
   ],
   "source": [
    "model2_data = model_data_processed.copy()\n",
    "X_train, X_test, y_train, y_test, X = get_train_test_data(model2_data, y)\n",
    "model2 = LogisticRegressionCV(Cs=[0.01, 0.05, 0.1, 0.15, 0.2, 0.5, 1], n_jobs=-1, max_iter=10000)\n",
    "model2.fit(X_train, y_train)\n",
    "result_scores = evaluate_model(result_scores, model2, \"LASSO\", X_train, X_test, y_train, y_test)"
   ]
  },
  {
   "cell_type": "code",
   "execution_count": 31,
   "id": "e29762c9",
   "metadata": {},
   "outputs": [
    {
     "name": "stdout",
     "output_type": "stream",
     "text": [
      "Time:  0.8639237571833291 minutes\n"
     ]
    }
   ],
   "source": [
    "stop = timeit.default_timer()\n",
    "print('Time: ', (stop - start)/60, 'minutes')"
   ]
  },
  {
   "cell_type": "markdown",
   "id": "822976c0",
   "metadata": {},
   "source": [
    "## Fit model to evaluation data\n",
    "- https://machinelearningmastery.com/train-final-machine-learning-model/"
   ]
  },
  {
   "cell_type": "code",
   "execution_count": 32,
   "id": "08a4dbfd",
   "metadata": {},
   "outputs": [],
   "source": [
    "predictions = model2.predict(eval_data_processed)\n",
    "eval_data[\"action_taken\"] = model2.predict(eval_data_processed)\n",
    "eval_data.to_csv(\"./data/X_test_complete.csv\", index=False)"
   ]
  }
 ],
 "metadata": {
  "kernelspec": {
   "display_name": "Python 3 (ipykernel)",
   "language": "python",
   "name": "python3"
  },
  "language_info": {
   "codemirror_mode": {
    "name": "ipython",
    "version": 3
   },
   "file_extension": ".py",
   "mimetype": "text/x-python",
   "name": "python",
   "nbconvert_exporter": "python",
   "pygments_lexer": "ipython3",
   "version": "3.10.4"
  }
 },
 "nbformat": 4,
 "nbformat_minor": 5
}
