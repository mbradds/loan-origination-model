{
 "cells": [
  {
   "cell_type": "markdown",
   "id": "874b13b2",
   "metadata": {},
   "source": [
    "### Coding Assignment Solution - Grant Moss\n",
    "\n",
    "Solution steps:\n",
    "\n",
    "1. Data preperation\n",
    "2. Training and evaluation of potential models\n",
    "3. Final model selection and training with full dataset\n",
    "4. Final model prediction on evaluation dataset"
   ]
  },
  {
   "cell_type": "markdown",
   "id": "69542dd1",
   "metadata": {},
   "source": [
    "### Notes\n",
    "\n",
    "This is going to be a logistic regression/ml classification model (supervised). There is alot of data, and alot of variables (both categorical and continuous). The data prep is going to need to handle the categorical and continuous data columns seperately. When it comes to the model, feature selection is going to be important, because there are alot of variables, and manual tuning of this parameter is not ideal. A classification model that is able to narrow down features automatically will apply nicely to this dataset (eg LASSO)."
   ]
  },
  {
   "cell_type": "markdown",
   "id": "f45779d0",
   "metadata": {},
   "source": [
    "### Resources\n",
    "- https://towardsdatascience.com/7-ways-to-handle-missing-values-in-machine-learning-1a6326adf79e\n",
    "- https://towardsdatascience.com/the-definitive-way-to-deal-with-continuous-variables-in-machine-learning-edb5472a2538\n",
    "- https://medium.com/@data.science.enthusiast/feature-selection-techniques-forward-backward-wrapper-selection-9587f3c70cfa\n",
    "- https://towardsdatascience.com/building-classification-models-with-sklearn-6a8fd107f0c1\n",
    "- https://scikit-learn.org/stable/modules/feature_selection.html\n",
    "- https://machinelearningmastery.com/standardscaler-and-minmaxscaler-transforms-in-python/\n",
    "- https://scikit-learn.org/stable/modules/generated/sklearn.preprocessing.StandardScaler.html#sklearn.preprocessing.StandardScaler\n",
    "- https://towardsdatascience.com/multi-collinearity-in-regression-fe7a2c1467ea\n",
    "- https://machinelearningmastery.com/one-hot-encoding-for-categorical-data/\n",
    "- https://inria.github.io/scikit-learn-mooc/python_scripts/03_categorical_pipeline_column_transformer.html"
   ]
  },
  {
   "cell_type": "code",
   "execution_count": 12,
   "id": "7e3e68c9",
   "metadata": {},
   "outputs": [],
   "source": [
    "import timeit\n",
    "import pandas as pd\n",
    "import numpy as np\n",
    "from util import dependent_variable, categorical_variables, continuous_variables\n",
    "from util import get_data, set_cwd_to_script, pre_process_loan_data, back_to_df, get_x_and_y, column_standardizer\n",
    "from sklearn.model_selection import train_test_split\n",
    "from sklearn.linear_model import LogisticRegression, LogisticRegressionCV\n",
    "from util import feature_selection, get_train_test_data, limit_data, sklearn_pre_process_loan_data, evaluate_model\n",
    "start = timeit.default_timer()\n",
    "# when set to False, all models will be trained and evaluated\n",
    "# when set to True, only the final model will be trained with all data and predicted on X_test.xlsx\n",
    "production = True\n",
    "\n",
    "# when not in production, limit the data for faster training and evaluation of the models\n",
    "if production:\n",
    "    limit = False\n",
    "else:\n",
    "    limit = 20000\n",
    "\n",
    "result_scores = {}\n",
    "set_cwd_to_script()\n",
    "pd.set_option('display.max_rows', 500)"
   ]
  },
  {
   "cell_type": "markdown",
   "id": "6d9a1996",
   "metadata": {},
   "source": [
    "## 1. Data Preperation"
   ]
  },
  {
   "cell_type": "markdown",
   "id": "d2bb6911",
   "metadata": {},
   "source": [
    "Data Prep steps:\n",
    "- Deal with blank data. This is done by removing variables that have more than 50% blank data.\n",
    "- Remove useless variables. Variables with low variance (one observation) do not add anything to the model and should be removed.\n",
    "- Process categorical varialbes.\n",
    "- Process continuous variables.\n",
    "- Deal with multicolinarity and heteroskedasticity of continuous numeric variables."
   ]
  },
  {
   "cell_type": "code",
   "execution_count": 13,
   "id": "cc0b4160",
   "metadata": {},
   "outputs": [],
   "source": [
    "loan_data = get_data(\"state_IL_application.csv\")"
   ]
  },
  {
   "cell_type": "code",
   "execution_count": 14,
   "id": "96c0faf0",
   "metadata": {},
   "outputs": [
    {
     "name": "stdout",
     "output_type": "stream",
     "text": [
      "invalid loan outcomes removed\n",
      "14 variables with high missing variables removed\n",
      "1 variables with low variance removed\n",
      "categorical variables processed\n",
      "continuous variables standardized\n",
      "High correlation (0.9274994062264686) between tract_population and tract_owner_occupied_units ,condider removing from model to avoid multicolinearity\n",
      "High correlation (0.9274994062264686) between tract_owner_occupied_units and tract_population ,condider removing from model to avoid multicolinearity\n",
      "High correlation (0.9035724956862088) between tract_owner_occupied_units and tract_one_to_four_family_homes ,condider removing from model to avoid multicolinearity\n",
      "High correlation (0.9035724956862088) between tract_one_to_four_family_homes and tract_owner_occupied_units ,condider removing from model to avoid multicolinearity\n"
     ]
    }
   ],
   "source": [
    "loan_data = pre_process_loan_data(loan_data, categorical_variables, continuous_variables, True, True)"
   ]
  },
  {
   "cell_type": "code",
   "execution_count": 15,
   "id": "6438103e",
   "metadata": {},
   "outputs": [
    {
     "data": {
      "text/plain": [
       "(536543, 53)"
      ]
     },
     "execution_count": 15,
     "metadata": {},
     "output_type": "execute_result"
    }
   ],
   "source": [
    "loan_data.shape"
   ]
  },
  {
   "cell_type": "code",
   "execution_count": 16,
   "id": "c0fe2752",
   "metadata": {},
   "outputs": [
    {
     "data": {
      "text/plain": [
       "(536543, 212)"
      ]
     },
     "execution_count": 16,
     "metadata": {},
     "output_type": "execute_result"
    }
   ],
   "source": [
    "# data to be copied for all models\n",
    "model_data_processed, y, preprocessor = sklearn_pre_process_loan_data(loan_data, limit=limit)\n",
    "model_data_processed.shape"
   ]
  },
  {
   "cell_type": "code",
   "execution_count": 17,
   "id": "6dc71ad0",
   "metadata": {},
   "outputs": [
    {
     "data": {
      "text/html": [
       "<style>#sk-container-id-2 {color: black;background-color: white;}#sk-container-id-2 pre{padding: 0;}#sk-container-id-2 div.sk-toggleable {background-color: white;}#sk-container-id-2 label.sk-toggleable__label {cursor: pointer;display: block;width: 100%;margin-bottom: 0;padding: 0.3em;box-sizing: border-box;text-align: center;}#sk-container-id-2 label.sk-toggleable__label-arrow:before {content: \"▸\";float: left;margin-right: 0.25em;color: #696969;}#sk-container-id-2 label.sk-toggleable__label-arrow:hover:before {color: black;}#sk-container-id-2 div.sk-estimator:hover label.sk-toggleable__label-arrow:before {color: black;}#sk-container-id-2 div.sk-toggleable__content {max-height: 0;max-width: 0;overflow: hidden;text-align: left;background-color: #f0f8ff;}#sk-container-id-2 div.sk-toggleable__content pre {margin: 0.2em;color: black;border-radius: 0.25em;background-color: #f0f8ff;}#sk-container-id-2 input.sk-toggleable__control:checked~div.sk-toggleable__content {max-height: 200px;max-width: 100%;overflow: auto;}#sk-container-id-2 input.sk-toggleable__control:checked~label.sk-toggleable__label-arrow:before {content: \"▾\";}#sk-container-id-2 div.sk-estimator input.sk-toggleable__control:checked~label.sk-toggleable__label {background-color: #d4ebff;}#sk-container-id-2 div.sk-label input.sk-toggleable__control:checked~label.sk-toggleable__label {background-color: #d4ebff;}#sk-container-id-2 input.sk-hidden--visually {border: 0;clip: rect(1px 1px 1px 1px);clip: rect(1px, 1px, 1px, 1px);height: 1px;margin: -1px;overflow: hidden;padding: 0;position: absolute;width: 1px;}#sk-container-id-2 div.sk-estimator {font-family: monospace;background-color: #f0f8ff;border: 1px dotted black;border-radius: 0.25em;box-sizing: border-box;margin-bottom: 0.5em;}#sk-container-id-2 div.sk-estimator:hover {background-color: #d4ebff;}#sk-container-id-2 div.sk-parallel-item::after {content: \"\";width: 100%;border-bottom: 1px solid gray;flex-grow: 1;}#sk-container-id-2 div.sk-label:hover label.sk-toggleable__label {background-color: #d4ebff;}#sk-container-id-2 div.sk-serial::before {content: \"\";position: absolute;border-left: 1px solid gray;box-sizing: border-box;top: 0;bottom: 0;left: 50%;z-index: 0;}#sk-container-id-2 div.sk-serial {display: flex;flex-direction: column;align-items: center;background-color: white;padding-right: 0.2em;padding-left: 0.2em;position: relative;}#sk-container-id-2 div.sk-item {position: relative;z-index: 1;}#sk-container-id-2 div.sk-parallel {display: flex;align-items: stretch;justify-content: center;background-color: white;position: relative;}#sk-container-id-2 div.sk-item::before, #sk-container-id-2 div.sk-parallel-item::before {content: \"\";position: absolute;border-left: 1px solid gray;box-sizing: border-box;top: 0;bottom: 0;left: 50%;z-index: -1;}#sk-container-id-2 div.sk-parallel-item {display: flex;flex-direction: column;z-index: 1;position: relative;background-color: white;}#sk-container-id-2 div.sk-parallel-item:first-child::after {align-self: flex-end;width: 50%;}#sk-container-id-2 div.sk-parallel-item:last-child::after {align-self: flex-start;width: 50%;}#sk-container-id-2 div.sk-parallel-item:only-child::after {width: 0;}#sk-container-id-2 div.sk-dashed-wrapped {border: 1px dashed gray;margin: 0 0.4em 0.5em 0.4em;box-sizing: border-box;padding-bottom: 0.4em;background-color: white;}#sk-container-id-2 div.sk-label label {font-family: monospace;font-weight: bold;display: inline-block;line-height: 1.2em;}#sk-container-id-2 div.sk-label-container {text-align: center;}#sk-container-id-2 div.sk-container {/* jupyter's `normalize.less` sets `[hidden] { display: none; }` but bootstrap.min.css set `[hidden] { display: none !important; }` so we also need the `!important` here to be able to override the default hidden behavior on the sphinx rendered scikit-learn.org. See: https://github.com/scikit-learn/scikit-learn/issues/21755 */display: inline-block !important;position: relative;}#sk-container-id-2 div.sk-text-repr-fallback {display: none;}</style><div id=\"sk-container-id-2\" class=\"sk-top-container\"><div class=\"sk-text-repr-fallback\"><pre>Pipeline(steps=[(&#x27;columntransformer&#x27;,\n",
       "                 ColumnTransformer(remainder=&#x27;passthrough&#x27;,\n",
       "                                   transformers=[(&#x27;one hot encoder&#x27;,\n",
       "                                                  OneHotEncoder(handle_unknown=&#x27;ignore&#x27;),\n",
       "                                                  [&#x27;activity_year&#x27;,\n",
       "                                                   &#x27;derived_msa-md&#x27;,\n",
       "                                                   &#x27;conforming_loan_limit&#x27;,\n",
       "                                                   &#x27;derived_loan_product_type&#x27;,\n",
       "                                                   &#x27;derived_dwelling_category&#x27;,\n",
       "                                                   &#x27;purchaser_type&#x27;,\n",
       "                                                   &#x27;preapproval&#x27;, &#x27;loan_type&#x27;,\n",
       "                                                   &#x27;loan_purpose&#x27;,\n",
       "                                                   &#x27;lien_status&#x27;,\n",
       "                                                   &#x27;reverse_mortga...\n",
       "                                                   &#x27;loan_term&#x27;,\n",
       "                                                   &#x27;property_value&#x27;, &#x27;income&#x27;,\n",
       "                                                   &#x27;tract_population&#x27;,\n",
       "                                                   &#x27;tract_minority_population_percent&#x27;,\n",
       "                                                   &#x27;ffiec_msa_md_median_family_income&#x27;,\n",
       "                                                   &#x27;tract_to_msa_income_percentage&#x27;,\n",
       "                                                   &#x27;tract_owner_occupied_units&#x27;,\n",
       "                                                   &#x27;tract_one_to_four_family_homes&#x27;,\n",
       "                                                   &#x27;tract_median_age_of_housing_units&#x27;])])),\n",
       "                (&#x27;functiontransformer&#x27;,\n",
       "                 FunctionTransformer(func=&lt;function back_to_df at 0x7f31091ed630&gt;))])</pre><b>In a Jupyter environment, please rerun this cell to show the HTML representation or trust the notebook. <br />On GitHub, the HTML representation is unable to render, please try loading this page with nbviewer.org.</b></div><div class=\"sk-container\" hidden><div class=\"sk-item sk-dashed-wrapped\"><div class=\"sk-label-container\"><div class=\"sk-label sk-toggleable\"><input class=\"sk-toggleable__control sk-hidden--visually\" id=\"sk-estimator-id-10\" type=\"checkbox\" ><label for=\"sk-estimator-id-10\" class=\"sk-toggleable__label sk-toggleable__label-arrow\">Pipeline</label><div class=\"sk-toggleable__content\"><pre>Pipeline(steps=[(&#x27;columntransformer&#x27;,\n",
       "                 ColumnTransformer(remainder=&#x27;passthrough&#x27;,\n",
       "                                   transformers=[(&#x27;one hot encoder&#x27;,\n",
       "                                                  OneHotEncoder(handle_unknown=&#x27;ignore&#x27;),\n",
       "                                                  [&#x27;activity_year&#x27;,\n",
       "                                                   &#x27;derived_msa-md&#x27;,\n",
       "                                                   &#x27;conforming_loan_limit&#x27;,\n",
       "                                                   &#x27;derived_loan_product_type&#x27;,\n",
       "                                                   &#x27;derived_dwelling_category&#x27;,\n",
       "                                                   &#x27;purchaser_type&#x27;,\n",
       "                                                   &#x27;preapproval&#x27;, &#x27;loan_type&#x27;,\n",
       "                                                   &#x27;loan_purpose&#x27;,\n",
       "                                                   &#x27;lien_status&#x27;,\n",
       "                                                   &#x27;reverse_mortga...\n",
       "                                                   &#x27;loan_term&#x27;,\n",
       "                                                   &#x27;property_value&#x27;, &#x27;income&#x27;,\n",
       "                                                   &#x27;tract_population&#x27;,\n",
       "                                                   &#x27;tract_minority_population_percent&#x27;,\n",
       "                                                   &#x27;ffiec_msa_md_median_family_income&#x27;,\n",
       "                                                   &#x27;tract_to_msa_income_percentage&#x27;,\n",
       "                                                   &#x27;tract_owner_occupied_units&#x27;,\n",
       "                                                   &#x27;tract_one_to_four_family_homes&#x27;,\n",
       "                                                   &#x27;tract_median_age_of_housing_units&#x27;])])),\n",
       "                (&#x27;functiontransformer&#x27;,\n",
       "                 FunctionTransformer(func=&lt;function back_to_df at 0x7f31091ed630&gt;))])</pre></div></div></div><div class=\"sk-serial\"><div class=\"sk-item sk-dashed-wrapped\"><div class=\"sk-label-container\"><div class=\"sk-label sk-toggleable\"><input class=\"sk-toggleable__control sk-hidden--visually\" id=\"sk-estimator-id-11\" type=\"checkbox\" ><label for=\"sk-estimator-id-11\" class=\"sk-toggleable__label sk-toggleable__label-arrow\">columntransformer: ColumnTransformer</label><div class=\"sk-toggleable__content\"><pre>ColumnTransformer(remainder=&#x27;passthrough&#x27;,\n",
       "                  transformers=[(&#x27;one hot encoder&#x27;,\n",
       "                                 OneHotEncoder(handle_unknown=&#x27;ignore&#x27;),\n",
       "                                 [&#x27;activity_year&#x27;, &#x27;derived_msa-md&#x27;,\n",
       "                                  &#x27;conforming_loan_limit&#x27;,\n",
       "                                  &#x27;derived_loan_product_type&#x27;,\n",
       "                                  &#x27;derived_dwelling_category&#x27;, &#x27;purchaser_type&#x27;,\n",
       "                                  &#x27;preapproval&#x27;, &#x27;loan_type&#x27;, &#x27;loan_purpose&#x27;,\n",
       "                                  &#x27;lien_status&#x27;, &#x27;reverse_mortgage&#x27;,\n",
       "                                  &#x27;open-end_line_of_credit&#x27;,\n",
       "                                  &#x27;busine...\n",
       "                                  &#x27;loan_amount&#x27;, &#x27;loan_to_value_ratio&#x27;,\n",
       "                                  &#x27;interest_rate&#x27;, &#x27;rate_spread&#x27;,\n",
       "                                  &#x27;total_loan_costs&#x27;, &#x27;origination_charges&#x27;,\n",
       "                                  &#x27;loan_term&#x27;, &#x27;property_value&#x27;, &#x27;income&#x27;,\n",
       "                                  &#x27;tract_population&#x27;,\n",
       "                                  &#x27;tract_minority_population_percent&#x27;,\n",
       "                                  &#x27;ffiec_msa_md_median_family_income&#x27;,\n",
       "                                  &#x27;tract_to_msa_income_percentage&#x27;,\n",
       "                                  &#x27;tract_owner_occupied_units&#x27;,\n",
       "                                  &#x27;tract_one_to_four_family_homes&#x27;,\n",
       "                                  &#x27;tract_median_age_of_housing_units&#x27;])])</pre></div></div></div><div class=\"sk-parallel\"><div class=\"sk-parallel-item\"><div class=\"sk-item\"><div class=\"sk-label-container\"><div class=\"sk-label sk-toggleable\"><input class=\"sk-toggleable__control sk-hidden--visually\" id=\"sk-estimator-id-12\" type=\"checkbox\" ><label for=\"sk-estimator-id-12\" class=\"sk-toggleable__label sk-toggleable__label-arrow\">one hot encoder</label><div class=\"sk-toggleable__content\"><pre>[&#x27;activity_year&#x27;, &#x27;derived_msa-md&#x27;, &#x27;conforming_loan_limit&#x27;, &#x27;derived_loan_product_type&#x27;, &#x27;derived_dwelling_category&#x27;, &#x27;purchaser_type&#x27;, &#x27;preapproval&#x27;, &#x27;loan_type&#x27;, &#x27;loan_purpose&#x27;, &#x27;lien_status&#x27;, &#x27;reverse_mortgage&#x27;, &#x27;open-end_line_of_credit&#x27;, &#x27;business_or_commercial_purpose&#x27;, &#x27;hoepa_status&#x27;, &#x27;negative_amortization&#x27;, &#x27;interest_only_payment&#x27;, &#x27;balloon_payment&#x27;, &#x27;other_nonamortizing_features&#x27;, &#x27;construction_method&#x27;, &#x27;occupancy_type&#x27;, &#x27;manufactured_home_secured_property_type&#x27;, &#x27;manufactured_home_land_property_interest&#x27;, &#x27;total_units&#x27;, &#x27;debt_to_income_ratio&#x27;, &#x27;applicant_credit_score_type&#x27;, &#x27;co-applicant_credit_score_type&#x27;, &#x27;applicant_age&#x27;, &#x27;co-applicant_age&#x27;, &#x27;applicant_age_above_62&#x27;, &#x27;submission_of_application&#x27;, &#x27;initially_payable_to_institution&#x27;, &#x27;aus-1&#x27;, &#x27;denial_reason-1&#x27;]</pre></div></div></div><div class=\"sk-serial\"><div class=\"sk-item\"><div class=\"sk-estimator sk-toggleable\"><input class=\"sk-toggleable__control sk-hidden--visually\" id=\"sk-estimator-id-13\" type=\"checkbox\" ><label for=\"sk-estimator-id-13\" class=\"sk-toggleable__label sk-toggleable__label-arrow\">OneHotEncoder</label><div class=\"sk-toggleable__content\"><pre>OneHotEncoder(handle_unknown=&#x27;ignore&#x27;)</pre></div></div></div></div></div></div><div class=\"sk-parallel-item\"><div class=\"sk-item\"><div class=\"sk-label-container\"><div class=\"sk-label sk-toggleable\"><input class=\"sk-toggleable__control sk-hidden--visually\" id=\"sk-estimator-id-14\" type=\"checkbox\" ><label for=\"sk-estimator-id-14\" class=\"sk-toggleable__label sk-toggleable__label-arrow\">standard_scaler</label><div class=\"sk-toggleable__content\"><pre>[&#x27;lei&#x27;, &#x27;county_code&#x27;, &#x27;census_tract&#x27;, &#x27;loan_amount&#x27;, &#x27;loan_to_value_ratio&#x27;, &#x27;interest_rate&#x27;, &#x27;rate_spread&#x27;, &#x27;total_loan_costs&#x27;, &#x27;origination_charges&#x27;, &#x27;loan_term&#x27;, &#x27;property_value&#x27;, &#x27;income&#x27;, &#x27;tract_population&#x27;, &#x27;tract_minority_population_percent&#x27;, &#x27;ffiec_msa_md_median_family_income&#x27;, &#x27;tract_to_msa_income_percentage&#x27;, &#x27;tract_owner_occupied_units&#x27;, &#x27;tract_one_to_four_family_homes&#x27;, &#x27;tract_median_age_of_housing_units&#x27;]</pre></div></div></div><div class=\"sk-serial\"><div class=\"sk-item\"><div class=\"sk-estimator sk-toggleable\"><input class=\"sk-toggleable__control sk-hidden--visually\" id=\"sk-estimator-id-15\" type=\"checkbox\" ><label for=\"sk-estimator-id-15\" class=\"sk-toggleable__label sk-toggleable__label-arrow\">StandardScaler</label><div class=\"sk-toggleable__content\"><pre>StandardScaler()</pre></div></div></div></div></div></div><div class=\"sk-parallel-item\"><div class=\"sk-item\"><div class=\"sk-label-container\"><div class=\"sk-label sk-toggleable\"><input class=\"sk-toggleable__control sk-hidden--visually\" id=\"sk-estimator-id-16\" type=\"checkbox\" ><label for=\"sk-estimator-id-16\" class=\"sk-toggleable__label sk-toggleable__label-arrow\">remainder</label><div class=\"sk-toggleable__content\"><pre>[]</pre></div></div></div><div class=\"sk-serial\"><div class=\"sk-item\"><div class=\"sk-estimator sk-toggleable\"><input class=\"sk-toggleable__control sk-hidden--visually\" id=\"sk-estimator-id-17\" type=\"checkbox\" ><label for=\"sk-estimator-id-17\" class=\"sk-toggleable__label sk-toggleable__label-arrow\">passthrough</label><div class=\"sk-toggleable__content\"><pre>passthrough</pre></div></div></div></div></div></div></div></div><div class=\"sk-item\"><div class=\"sk-estimator sk-toggleable\"><input class=\"sk-toggleable__control sk-hidden--visually\" id=\"sk-estimator-id-18\" type=\"checkbox\" ><label for=\"sk-estimator-id-18\" class=\"sk-toggleable__label sk-toggleable__label-arrow\">FunctionTransformer</label><div class=\"sk-toggleable__content\"><pre>FunctionTransformer(func=&lt;function back_to_df at 0x7f31091ed630&gt;)</pre></div></div></div></div></div></div></div>"
      ],
      "text/plain": [
       "Pipeline(steps=[('columntransformer',\n",
       "                 ColumnTransformer(remainder='passthrough',\n",
       "                                   transformers=[('one hot encoder',\n",
       "                                                  OneHotEncoder(handle_unknown='ignore'),\n",
       "                                                  ['activity_year',\n",
       "                                                   'derived_msa-md',\n",
       "                                                   'conforming_loan_limit',\n",
       "                                                   'derived_loan_product_type',\n",
       "                                                   'derived_dwelling_category',\n",
       "                                                   'purchaser_type',\n",
       "                                                   'preapproval', 'loan_type',\n",
       "                                                   'loan_purpose',\n",
       "                                                   'lien_status',\n",
       "                                                   'reverse_mortga...\n",
       "                                                   'loan_term',\n",
       "                                                   'property_value', 'income',\n",
       "                                                   'tract_population',\n",
       "                                                   'tract_minority_population_percent',\n",
       "                                                   'ffiec_msa_md_median_family_income',\n",
       "                                                   'tract_to_msa_income_percentage',\n",
       "                                                   'tract_owner_occupied_units',\n",
       "                                                   'tract_one_to_four_family_homes',\n",
       "                                                   'tract_median_age_of_housing_units'])])),\n",
       "                ('functiontransformer',\n",
       "                 FunctionTransformer(func=<function back_to_df at 0x7f31091ed630>))])"
      ]
     },
     "execution_count": 17,
     "metadata": {},
     "output_type": "execute_result"
    }
   ],
   "source": [
    "preprocessor"
   ]
  },
  {
   "cell_type": "code",
   "execution_count": 18,
   "id": "bf2cfdb7",
   "metadata": {},
   "outputs": [
    {
     "name": "stdout",
     "output_type": "stream",
     "text": [
      "categorical variables processed\n",
      "continuous variables standardized\n"
     ]
    }
   ],
   "source": [
    "eval_data = get_data(\"X_test.xlsx\")\n",
    "solution_output_data = eval_data.copy() # attach final predictions to this data for output in csv format\n",
    "eval_data = pre_process_loan_data(eval_data, categorical_variables, continuous_variables, True, False)\n",
    "eval_data_processed, y_eval, preprocessor_eval = sklearn_pre_process_loan_data(eval_data, False, False)\n",
    "model_data_processed, eval_data_processed = column_standardizer(model_data_processed, eval_data_processed)"
   ]
  },
  {
   "cell_type": "markdown",
   "id": "a4532bfe",
   "metadata": {},
   "source": [
    "## 2. Model"
   ]
  },
  {
   "cell_type": "markdown",
   "id": "656bbfbb",
   "metadata": {},
   "source": [
    "### Model 1 - sklearn logistic regression with automated feature selection"
   ]
  },
  {
   "cell_type": "code",
   "execution_count": 19,
   "id": "b87a5e8f",
   "metadata": {},
   "outputs": [],
   "source": [
    "if not production:\n",
    "    model1_data = model_data_processed.copy()\n",
    "    features = feature_selection(model1_data.copy(), y, n=500, num_features=\"best\")\n",
    "    X_train, X_test, y_train, y_test, X = get_train_test_data(model1_data, y, features)\n",
    "    model1 = LogisticRegression(n_jobs=-1, max_iter=10000)\n",
    "    model1.fit(X_train, y_train)\n",
    "    result_scores = evaluate_model(result_scores, model1, \"Logistic\", X_train, X_test, y_train, y_test)"
   ]
  },
  {
   "cell_type": "markdown",
   "id": "2f9b254e",
   "metadata": {},
   "source": [
    "### Model 2 - Sklearn LASSO"
   ]
  },
  {
   "cell_type": "code",
   "execution_count": 20,
   "id": "547fe376",
   "metadata": {},
   "outputs": [],
   "source": [
    "if not production:\n",
    "    model2_data = model_data_processed.copy()\n",
    "    X_train, X_test, y_train, y_test, X = get_train_test_data(model2_data, y)\n",
    "    model2 = LogisticRegressionCV(Cs=[0.01, 0.05, 0.1, 0.15, 0.2, 0.5, 1], n_jobs=-1, max_iter=10000)\n",
    "    model2.fit(X_train, y_train)\n",
    "    print(\"LASSO number of features: \", model2.n_features_in_)\n",
    "    result_scores = evaluate_model(result_scores, model2, \"LASSO\", X_train, X_test, y_train, y_test)"
   ]
  },
  {
   "cell_type": "markdown",
   "id": "74e1f199",
   "metadata": {},
   "source": [
    "### Model Scores"
   ]
  },
  {
   "cell_type": "code",
   "execution_count": 21,
   "id": "430146c1",
   "metadata": {},
   "outputs": [],
   "source": [
    "if not production:\n",
    "    results_df = pd.DataFrame(result_scores)\n",
    "    results_df"
   ]
  },
  {
   "cell_type": "markdown",
   "id": "4a3dcfde",
   "metadata": {},
   "source": [
    "The LASSO model has the highest scores, and will be used in the final model."
   ]
  },
  {
   "cell_type": "markdown",
   "id": "31685762",
   "metadata": {},
   "source": [
    "## Fit model to evaluation data\n",
    "- https://machinelearningmastery.com/train-final-machine-learning-model/\n",
    "- https://machinelearningmastery.com/make-predictions-scikit-learn/"
   ]
  },
  {
   "cell_type": "code",
   "execution_count": 22,
   "id": "f20a014c",
   "metadata": {},
   "outputs": [
    {
     "name": "stdout",
     "output_type": "stream",
     "text": [
      "running final production model....\n",
      "211\n"
     ]
    }
   ],
   "source": [
    "if production:\n",
    "    print(\"running final production model....\")\n",
    "    final_model_data = model_data_processed.copy()\n",
    "    X_train, X_test, y_train, y_test, X = get_train_test_data(final_model_data, y, False, 1)\n",
    "    final_model = LogisticRegressionCV(Cs=[0.01, 0.05, 0.1, 0.15, 0.2, 0.5, 1], n_jobs=-1, max_iter=10000)\n",
    "    final_model.fit(X_train, y_train) #X_train and y_train have all the data in this case\n",
    "    print(final_model.n_features_in_)\n",
    "    predictions = final_model.predict(eval_data_processed)\n",
    "    solution_output_data[\"action_taken\"] = final_model.predict(eval_data_processed)\n",
    "    solution_output_data.to_csv(\"X_test_predicted_gm.csv\", index=False)"
   ]
  },
  {
   "cell_type": "code",
   "execution_count": 23,
   "id": "7e545cf2",
   "metadata": {},
   "outputs": [
    {
     "name": "stdout",
     "output_type": "stream",
     "text": [
      "Runtime:  7.101795488349975 minutes\n"
     ]
    }
   ],
   "source": [
    "stop = timeit.default_timer()\n",
    "print('Runtime: ', (stop - start)/60, 'minutes')"
   ]
  }
 ],
 "metadata": {
  "kernelspec": {
   "display_name": "Python 3 (ipykernel)",
   "language": "python",
   "name": "python3"
  },
  "language_info": {
   "codemirror_mode": {
    "name": "ipython",
    "version": 3
   },
   "file_extension": ".py",
   "mimetype": "text/x-python",
   "name": "python",
   "nbconvert_exporter": "python",
   "pygments_lexer": "ipython3",
   "version": "3.10.4"
  }
 },
 "nbformat": 4,
 "nbformat_minor": 5
}
