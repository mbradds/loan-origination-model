{
 "cells": [
  {
   "cell_type": "markdown",
   "id": "874b13b2",
   "metadata": {},
   "source": [
    "### Coding Assignment Solution - Grant Moss\n",
    "\n",
    "Solution steps:\n",
    "\n",
    "1. Data preperation\n",
    "2. Training and evaluation of potential models\n",
    "3. Final model selection and training with full dataset\n",
    "4. Final model prediction on evaluation dataset"
   ]
  },
  {
   "cell_type": "markdown",
   "id": "69542dd1",
   "metadata": {},
   "source": [
    "### Notes\n",
    "\n",
    "This is going to be a logistic regression/ml classification model (supervised). There is alot of data, and alot of variables (both categorical and continuous). The data prep is going to need to handle the categorical and continuous data columns seperately. When it comes to the model, feature selection is going to be important, because there are alot of variables, and manual tuning of this parameter is not ideal. A classification model that is able to narrow down features automatically will apply nicely to this dataset (eg LASSO)."
   ]
  },
  {
   "cell_type": "code",
   "execution_count": 1,
   "id": "7e3e68c9",
   "metadata": {},
   "outputs": [
    {
     "name": "stderr",
     "output_type": "stream",
     "text": [
      "/home/grant/anaconda3/envs/data-science/lib/python3.10/site-packages/scipy/__init__.py:146: UserWarning: A NumPy version >=1.16.5 and <1.23.0 is required for this version of SciPy (detected version 1.23.1\n",
      "  warnings.warn(f\"A NumPy version >={np_minversion} and <{np_maxversion}\"\n"
     ]
    }
   ],
   "source": [
    "import timeit\n",
    "import pandas as pd\n",
    "import numpy as np\n",
    "from util import dependent_variable, categorical_variables, continuous_variables\n",
    "from util import get_data, set_cwd_to_script, pre_process_loan_data, back_to_df, get_x_and_y, column_standardizer\n",
    "from sklearn.model_selection import train_test_split\n",
    "from sklearn.linear_model import LogisticRegression, LogisticRegressionCV\n",
    "from util import feature_selection, get_train_test_data, limit_data, sklearn_pre_process_loan_data, evaluate_model\n",
    "start = timeit.default_timer()\n",
    "\n",
    "# when set to False, all models will be trained and evaluated\n",
    "# when set to True, only the final model will be trained with all data and predicted on X_test.xlsx\n",
    "production = True\n",
    "\n",
    "# when not in production, limit the data for faster training and evaluation of the models\n",
    "if production:\n",
    "    limit = False\n",
    "else:\n",
    "    limit = 20000\n",
    "\n",
    "result_scores = {} # keeps track of model scores during training\n",
    "set_cwd_to_script()"
   ]
  },
  {
   "cell_type": "markdown",
   "id": "1e868261",
   "metadata": {},
   "source": [
    "## 1. Data Preperation"
   ]
  },
  {
   "cell_type": "markdown",
   "id": "d2bb6911",
   "metadata": {},
   "source": [
    "Data Prep steps:\n",
    "- Deal with blank data. This is done by removing variables that have more than 50% blank data.\n",
    "- Remove useless variables. Variables with low variance (one observation) do not add anything to the model and should be removed.\n",
    "- Process categorical varialbes.\n",
    "- Process continuous variables.\n",
    "- Deal with multicolinarity and heteroskedasticity of continuous numeric variables.\n",
    "\n",
    "Data prep is done using two functions from `./util.py` called in the following order.\n",
    "\n",
    "1. pre_process_loan_data: My custom code for cleaning up the data and some basic exploratory data analysis such as evaluating highly correlated features.\n",
    "2. sklearn_pre_process_data: Creates a sklearn pipeline for handling the categorical and continuous variables seperately.\n"
   ]
  },
  {
   "cell_type": "code",
   "execution_count": 2,
   "id": "cc0b4160",
   "metadata": {},
   "outputs": [],
   "source": [
    "loan_data = get_data(\"state_IL_application.csv\")"
   ]
  },
  {
   "cell_type": "code",
   "execution_count": 3,
   "id": "96c0faf0",
   "metadata": {},
   "outputs": [
    {
     "name": "stdout",
     "output_type": "stream",
     "text": [
      "invalid loan outcomes removed\n",
      "14 variables with high missing variables removed\n",
      "1 variables with low variance removed\n",
      "categorical variables processed\n",
      "continuous variables standardized\n",
      "High correlation (0.9274994062264686) between tract_population and tract_owner_occupied_units ,condider removing from model to avoid multicolinearity\n",
      "High correlation (0.9274994062264686) between tract_owner_occupied_units and tract_population ,condider removing from model to avoid multicolinearity\n",
      "High correlation (0.9035724956862088) between tract_owner_occupied_units and tract_one_to_four_family_homes ,condider removing from model to avoid multicolinearity\n",
      "High correlation (0.9035724956862088) between tract_one_to_four_family_homes and tract_owner_occupied_units ,condider removing from model to avoid multicolinearity\n"
     ]
    }
   ],
   "source": [
    "loan_data = pre_process_loan_data(loan_data, categorical_variables, continuous_variables, True, True)"
   ]
  },
  {
   "cell_type": "code",
   "execution_count": 4,
   "id": "6438103e",
   "metadata": {},
   "outputs": [
    {
     "data": {
      "text/plain": [
       "(536543, 53)"
      ]
     },
     "execution_count": 4,
     "metadata": {},
     "output_type": "execute_result"
    }
   ],
   "source": [
    "loan_data.shape"
   ]
  },
  {
   "cell_type": "code",
   "execution_count": 5,
   "id": "c0fe2752",
   "metadata": {},
   "outputs": [
    {
     "data": {
      "text/plain": [
       "(20000, 210)"
      ]
     },
     "execution_count": 5,
     "metadata": {},
     "output_type": "execute_result"
    }
   ],
   "source": [
    "# data to be copied for all models\n",
    "model_data_processed, y, preprocessor = sklearn_pre_process_loan_data(loan_data, limit=limit)"
   ]
  },
  {
   "cell_type": "code",
   "execution_count": 6,
   "id": "6dc71ad0",
   "metadata": {},
   "outputs": [
    {
     "data": {
      "text/html": [
       "<style>#sk-container-id-1 {color: black;background-color: white;}#sk-container-id-1 pre{padding: 0;}#sk-container-id-1 div.sk-toggleable {background-color: white;}#sk-container-id-1 label.sk-toggleable__label {cursor: pointer;display: block;width: 100%;margin-bottom: 0;padding: 0.3em;box-sizing: border-box;text-align: center;}#sk-container-id-1 label.sk-toggleable__label-arrow:before {content: \"▸\";float: left;margin-right: 0.25em;color: #696969;}#sk-container-id-1 label.sk-toggleable__label-arrow:hover:before {color: black;}#sk-container-id-1 div.sk-estimator:hover label.sk-toggleable__label-arrow:before {color: black;}#sk-container-id-1 div.sk-toggleable__content {max-height: 0;max-width: 0;overflow: hidden;text-align: left;background-color: #f0f8ff;}#sk-container-id-1 div.sk-toggleable__content pre {margin: 0.2em;color: black;border-radius: 0.25em;background-color: #f0f8ff;}#sk-container-id-1 input.sk-toggleable__control:checked~div.sk-toggleable__content {max-height: 200px;max-width: 100%;overflow: auto;}#sk-container-id-1 input.sk-toggleable__control:checked~label.sk-toggleable__label-arrow:before {content: \"▾\";}#sk-container-id-1 div.sk-estimator input.sk-toggleable__control:checked~label.sk-toggleable__label {background-color: #d4ebff;}#sk-container-id-1 div.sk-label input.sk-toggleable__control:checked~label.sk-toggleable__label {background-color: #d4ebff;}#sk-container-id-1 input.sk-hidden--visually {border: 0;clip: rect(1px 1px 1px 1px);clip: rect(1px, 1px, 1px, 1px);height: 1px;margin: -1px;overflow: hidden;padding: 0;position: absolute;width: 1px;}#sk-container-id-1 div.sk-estimator {font-family: monospace;background-color: #f0f8ff;border: 1px dotted black;border-radius: 0.25em;box-sizing: border-box;margin-bottom: 0.5em;}#sk-container-id-1 div.sk-estimator:hover {background-color: #d4ebff;}#sk-container-id-1 div.sk-parallel-item::after {content: \"\";width: 100%;border-bottom: 1px solid gray;flex-grow: 1;}#sk-container-id-1 div.sk-label:hover label.sk-toggleable__label {background-color: #d4ebff;}#sk-container-id-1 div.sk-serial::before {content: \"\";position: absolute;border-left: 1px solid gray;box-sizing: border-box;top: 0;bottom: 0;left: 50%;z-index: 0;}#sk-container-id-1 div.sk-serial {display: flex;flex-direction: column;align-items: center;background-color: white;padding-right: 0.2em;padding-left: 0.2em;position: relative;}#sk-container-id-1 div.sk-item {position: relative;z-index: 1;}#sk-container-id-1 div.sk-parallel {display: flex;align-items: stretch;justify-content: center;background-color: white;position: relative;}#sk-container-id-1 div.sk-item::before, #sk-container-id-1 div.sk-parallel-item::before {content: \"\";position: absolute;border-left: 1px solid gray;box-sizing: border-box;top: 0;bottom: 0;left: 50%;z-index: -1;}#sk-container-id-1 div.sk-parallel-item {display: flex;flex-direction: column;z-index: 1;position: relative;background-color: white;}#sk-container-id-1 div.sk-parallel-item:first-child::after {align-self: flex-end;width: 50%;}#sk-container-id-1 div.sk-parallel-item:last-child::after {align-self: flex-start;width: 50%;}#sk-container-id-1 div.sk-parallel-item:only-child::after {width: 0;}#sk-container-id-1 div.sk-dashed-wrapped {border: 1px dashed gray;margin: 0 0.4em 0.5em 0.4em;box-sizing: border-box;padding-bottom: 0.4em;background-color: white;}#sk-container-id-1 div.sk-label label {font-family: monospace;font-weight: bold;display: inline-block;line-height: 1.2em;}#sk-container-id-1 div.sk-label-container {text-align: center;}#sk-container-id-1 div.sk-container {/* jupyter's `normalize.less` sets `[hidden] { display: none; }` but bootstrap.min.css set `[hidden] { display: none !important; }` so we also need the `!important` here to be able to override the default hidden behavior on the sphinx rendered scikit-learn.org. See: https://github.com/scikit-learn/scikit-learn/issues/21755 */display: inline-block !important;position: relative;}#sk-container-id-1 div.sk-text-repr-fallback {display: none;}</style><div id=\"sk-container-id-1\" class=\"sk-top-container\"><div class=\"sk-text-repr-fallback\"><pre>Pipeline(steps=[(&#x27;columntransformer&#x27;,\n",
       "                 ColumnTransformer(remainder=&#x27;passthrough&#x27;,\n",
       "                                   transformers=[(&#x27;one hot encoder&#x27;,\n",
       "                                                  OneHotEncoder(handle_unknown=&#x27;ignore&#x27;),\n",
       "                                                  [&#x27;activity_year&#x27;,\n",
       "                                                   &#x27;derived_msa-md&#x27;,\n",
       "                                                   &#x27;conforming_loan_limit&#x27;,\n",
       "                                                   &#x27;derived_loan_product_type&#x27;,\n",
       "                                                   &#x27;derived_dwelling_category&#x27;,\n",
       "                                                   &#x27;purchaser_type&#x27;,\n",
       "                                                   &#x27;preapproval&#x27;, &#x27;loan_type&#x27;,\n",
       "                                                   &#x27;loan_purpose&#x27;,\n",
       "                                                   &#x27;lien_status&#x27;,\n",
       "                                                   &#x27;reverse_mortga...\n",
       "                                                   &#x27;loan_term&#x27;,\n",
       "                                                   &#x27;property_value&#x27;, &#x27;income&#x27;,\n",
       "                                                   &#x27;tract_population&#x27;,\n",
       "                                                   &#x27;tract_minority_population_percent&#x27;,\n",
       "                                                   &#x27;ffiec_msa_md_median_family_income&#x27;,\n",
       "                                                   &#x27;tract_to_msa_income_percentage&#x27;,\n",
       "                                                   &#x27;tract_owner_occupied_units&#x27;,\n",
       "                                                   &#x27;tract_one_to_four_family_homes&#x27;,\n",
       "                                                   &#x27;tract_median_age_of_housing_units&#x27;])])),\n",
       "                (&#x27;functiontransformer&#x27;,\n",
       "                 FunctionTransformer(func=&lt;function back_to_df at 0x7f4f116e5750&gt;))])</pre><b>In a Jupyter environment, please rerun this cell to show the HTML representation or trust the notebook. <br />On GitHub, the HTML representation is unable to render, please try loading this page with nbviewer.org.</b></div><div class=\"sk-container\" hidden><div class=\"sk-item sk-dashed-wrapped\"><div class=\"sk-label-container\"><div class=\"sk-label sk-toggleable\"><input class=\"sk-toggleable__control sk-hidden--visually\" id=\"sk-estimator-id-1\" type=\"checkbox\" ><label for=\"sk-estimator-id-1\" class=\"sk-toggleable__label sk-toggleable__label-arrow\">Pipeline</label><div class=\"sk-toggleable__content\"><pre>Pipeline(steps=[(&#x27;columntransformer&#x27;,\n",
       "                 ColumnTransformer(remainder=&#x27;passthrough&#x27;,\n",
       "                                   transformers=[(&#x27;one hot encoder&#x27;,\n",
       "                                                  OneHotEncoder(handle_unknown=&#x27;ignore&#x27;),\n",
       "                                                  [&#x27;activity_year&#x27;,\n",
       "                                                   &#x27;derived_msa-md&#x27;,\n",
       "                                                   &#x27;conforming_loan_limit&#x27;,\n",
       "                                                   &#x27;derived_loan_product_type&#x27;,\n",
       "                                                   &#x27;derived_dwelling_category&#x27;,\n",
       "                                                   &#x27;purchaser_type&#x27;,\n",
       "                                                   &#x27;preapproval&#x27;, &#x27;loan_type&#x27;,\n",
       "                                                   &#x27;loan_purpose&#x27;,\n",
       "                                                   &#x27;lien_status&#x27;,\n",
       "                                                   &#x27;reverse_mortga...\n",
       "                                                   &#x27;loan_term&#x27;,\n",
       "                                                   &#x27;property_value&#x27;, &#x27;income&#x27;,\n",
       "                                                   &#x27;tract_population&#x27;,\n",
       "                                                   &#x27;tract_minority_population_percent&#x27;,\n",
       "                                                   &#x27;ffiec_msa_md_median_family_income&#x27;,\n",
       "                                                   &#x27;tract_to_msa_income_percentage&#x27;,\n",
       "                                                   &#x27;tract_owner_occupied_units&#x27;,\n",
       "                                                   &#x27;tract_one_to_four_family_homes&#x27;,\n",
       "                                                   &#x27;tract_median_age_of_housing_units&#x27;])])),\n",
       "                (&#x27;functiontransformer&#x27;,\n",
       "                 FunctionTransformer(func=&lt;function back_to_df at 0x7f4f116e5750&gt;))])</pre></div></div></div><div class=\"sk-serial\"><div class=\"sk-item sk-dashed-wrapped\"><div class=\"sk-label-container\"><div class=\"sk-label sk-toggleable\"><input class=\"sk-toggleable__control sk-hidden--visually\" id=\"sk-estimator-id-2\" type=\"checkbox\" ><label for=\"sk-estimator-id-2\" class=\"sk-toggleable__label sk-toggleable__label-arrow\">columntransformer: ColumnTransformer</label><div class=\"sk-toggleable__content\"><pre>ColumnTransformer(remainder=&#x27;passthrough&#x27;,\n",
       "                  transformers=[(&#x27;one hot encoder&#x27;,\n",
       "                                 OneHotEncoder(handle_unknown=&#x27;ignore&#x27;),\n",
       "                                 [&#x27;activity_year&#x27;, &#x27;derived_msa-md&#x27;,\n",
       "                                  &#x27;conforming_loan_limit&#x27;,\n",
       "                                  &#x27;derived_loan_product_type&#x27;,\n",
       "                                  &#x27;derived_dwelling_category&#x27;, &#x27;purchaser_type&#x27;,\n",
       "                                  &#x27;preapproval&#x27;, &#x27;loan_type&#x27;, &#x27;loan_purpose&#x27;,\n",
       "                                  &#x27;lien_status&#x27;, &#x27;reverse_mortgage&#x27;,\n",
       "                                  &#x27;open-end_line_of_credit&#x27;,\n",
       "                                  &#x27;busine...\n",
       "                                  &#x27;loan_amount&#x27;, &#x27;loan_to_value_ratio&#x27;,\n",
       "                                  &#x27;interest_rate&#x27;, &#x27;rate_spread&#x27;,\n",
       "                                  &#x27;total_loan_costs&#x27;, &#x27;origination_charges&#x27;,\n",
       "                                  &#x27;loan_term&#x27;, &#x27;property_value&#x27;, &#x27;income&#x27;,\n",
       "                                  &#x27;tract_population&#x27;,\n",
       "                                  &#x27;tract_minority_population_percent&#x27;,\n",
       "                                  &#x27;ffiec_msa_md_median_family_income&#x27;,\n",
       "                                  &#x27;tract_to_msa_income_percentage&#x27;,\n",
       "                                  &#x27;tract_owner_occupied_units&#x27;,\n",
       "                                  &#x27;tract_one_to_four_family_homes&#x27;,\n",
       "                                  &#x27;tract_median_age_of_housing_units&#x27;])])</pre></div></div></div><div class=\"sk-parallel\"><div class=\"sk-parallel-item\"><div class=\"sk-item\"><div class=\"sk-label-container\"><div class=\"sk-label sk-toggleable\"><input class=\"sk-toggleable__control sk-hidden--visually\" id=\"sk-estimator-id-3\" type=\"checkbox\" ><label for=\"sk-estimator-id-3\" class=\"sk-toggleable__label sk-toggleable__label-arrow\">one hot encoder</label><div class=\"sk-toggleable__content\"><pre>[&#x27;activity_year&#x27;, &#x27;derived_msa-md&#x27;, &#x27;conforming_loan_limit&#x27;, &#x27;derived_loan_product_type&#x27;, &#x27;derived_dwelling_category&#x27;, &#x27;purchaser_type&#x27;, &#x27;preapproval&#x27;, &#x27;loan_type&#x27;, &#x27;loan_purpose&#x27;, &#x27;lien_status&#x27;, &#x27;reverse_mortgage&#x27;, &#x27;open-end_line_of_credit&#x27;, &#x27;business_or_commercial_purpose&#x27;, &#x27;hoepa_status&#x27;, &#x27;negative_amortization&#x27;, &#x27;interest_only_payment&#x27;, &#x27;balloon_payment&#x27;, &#x27;other_nonamortizing_features&#x27;, &#x27;construction_method&#x27;, &#x27;occupancy_type&#x27;, &#x27;manufactured_home_secured_property_type&#x27;, &#x27;manufactured_home_land_property_interest&#x27;, &#x27;total_units&#x27;, &#x27;debt_to_income_ratio&#x27;, &#x27;applicant_credit_score_type&#x27;, &#x27;co-applicant_credit_score_type&#x27;, &#x27;applicant_age&#x27;, &#x27;co-applicant_age&#x27;, &#x27;applicant_age_above_62&#x27;, &#x27;submission_of_application&#x27;, &#x27;initially_payable_to_institution&#x27;, &#x27;aus-1&#x27;, &#x27;denial_reason-1&#x27;]</pre></div></div></div><div class=\"sk-serial\"><div class=\"sk-item\"><div class=\"sk-estimator sk-toggleable\"><input class=\"sk-toggleable__control sk-hidden--visually\" id=\"sk-estimator-id-4\" type=\"checkbox\" ><label for=\"sk-estimator-id-4\" class=\"sk-toggleable__label sk-toggleable__label-arrow\">OneHotEncoder</label><div class=\"sk-toggleable__content\"><pre>OneHotEncoder(handle_unknown=&#x27;ignore&#x27;)</pre></div></div></div></div></div></div><div class=\"sk-parallel-item\"><div class=\"sk-item\"><div class=\"sk-label-container\"><div class=\"sk-label sk-toggleable\"><input class=\"sk-toggleable__control sk-hidden--visually\" id=\"sk-estimator-id-5\" type=\"checkbox\" ><label for=\"sk-estimator-id-5\" class=\"sk-toggleable__label sk-toggleable__label-arrow\">standard_scaler</label><div class=\"sk-toggleable__content\"><pre>[&#x27;lei&#x27;, &#x27;county_code&#x27;, &#x27;census_tract&#x27;, &#x27;loan_amount&#x27;, &#x27;loan_to_value_ratio&#x27;, &#x27;interest_rate&#x27;, &#x27;rate_spread&#x27;, &#x27;total_loan_costs&#x27;, &#x27;origination_charges&#x27;, &#x27;loan_term&#x27;, &#x27;property_value&#x27;, &#x27;income&#x27;, &#x27;tract_population&#x27;, &#x27;tract_minority_population_percent&#x27;, &#x27;ffiec_msa_md_median_family_income&#x27;, &#x27;tract_to_msa_income_percentage&#x27;, &#x27;tract_owner_occupied_units&#x27;, &#x27;tract_one_to_four_family_homes&#x27;, &#x27;tract_median_age_of_housing_units&#x27;]</pre></div></div></div><div class=\"sk-serial\"><div class=\"sk-item\"><div class=\"sk-estimator sk-toggleable\"><input class=\"sk-toggleable__control sk-hidden--visually\" id=\"sk-estimator-id-6\" type=\"checkbox\" ><label for=\"sk-estimator-id-6\" class=\"sk-toggleable__label sk-toggleable__label-arrow\">StandardScaler</label><div class=\"sk-toggleable__content\"><pre>StandardScaler()</pre></div></div></div></div></div></div><div class=\"sk-parallel-item\"><div class=\"sk-item\"><div class=\"sk-label-container\"><div class=\"sk-label sk-toggleable\"><input class=\"sk-toggleable__control sk-hidden--visually\" id=\"sk-estimator-id-7\" type=\"checkbox\" ><label for=\"sk-estimator-id-7\" class=\"sk-toggleable__label sk-toggleable__label-arrow\">remainder</label><div class=\"sk-toggleable__content\"><pre>[]</pre></div></div></div><div class=\"sk-serial\"><div class=\"sk-item\"><div class=\"sk-estimator sk-toggleable\"><input class=\"sk-toggleable__control sk-hidden--visually\" id=\"sk-estimator-id-8\" type=\"checkbox\" ><label for=\"sk-estimator-id-8\" class=\"sk-toggleable__label sk-toggleable__label-arrow\">passthrough</label><div class=\"sk-toggleable__content\"><pre>passthrough</pre></div></div></div></div></div></div></div></div><div class=\"sk-item\"><div class=\"sk-estimator sk-toggleable\"><input class=\"sk-toggleable__control sk-hidden--visually\" id=\"sk-estimator-id-9\" type=\"checkbox\" ><label for=\"sk-estimator-id-9\" class=\"sk-toggleable__label sk-toggleable__label-arrow\">FunctionTransformer</label><div class=\"sk-toggleable__content\"><pre>FunctionTransformer(func=&lt;function back_to_df at 0x7f4f116e5750&gt;)</pre></div></div></div></div></div></div></div>"
      ],
      "text/plain": [
       "Pipeline(steps=[('columntransformer',\n",
       "                 ColumnTransformer(remainder='passthrough',\n",
       "                                   transformers=[('one hot encoder',\n",
       "                                                  OneHotEncoder(handle_unknown='ignore'),\n",
       "                                                  ['activity_year',\n",
       "                                                   'derived_msa-md',\n",
       "                                                   'conforming_loan_limit',\n",
       "                                                   'derived_loan_product_type',\n",
       "                                                   'derived_dwelling_category',\n",
       "                                                   'purchaser_type',\n",
       "                                                   'preapproval', 'loan_type',\n",
       "                                                   'loan_purpose',\n",
       "                                                   'lien_status',\n",
       "                                                   'reverse_mortga...\n",
       "                                                   'loan_term',\n",
       "                                                   'property_value', 'income',\n",
       "                                                   'tract_population',\n",
       "                                                   'tract_minority_population_percent',\n",
       "                                                   'ffiec_msa_md_median_family_income',\n",
       "                                                   'tract_to_msa_income_percentage',\n",
       "                                                   'tract_owner_occupied_units',\n",
       "                                                   'tract_one_to_four_family_homes',\n",
       "                                                   'tract_median_age_of_housing_units'])])),\n",
       "                ('functiontransformer',\n",
       "                 FunctionTransformer(func=<function back_to_df at 0x7f4f116e5750>))])"
      ]
     },
     "execution_count": 6,
     "metadata": {},
     "output_type": "execute_result"
    }
   ],
   "source": [
    "# categorical variables are encoded with the one hot method to avoid non sense relationships in the categories eg:\n",
    "# dog = 1, cat = 2 cat > dog so cat is better than dog. We dont want to model to think this!\n",
    "# a better way: dog = 1, 0 and cat = 0, 1\n",
    "\n",
    "# continuous variables are scaled to remove the mean and a variance of 1.\n",
    "\n",
    "# a function transformer converts the sklearn output back to a dataframe.\n",
    "preprocessor"
   ]
  },
  {
   "cell_type": "code",
   "execution_count": 7,
   "id": "bf2cfdb7",
   "metadata": {},
   "outputs": [
    {
     "name": "stdout",
     "output_type": "stream",
     "text": [
      "categorical variables processed\n",
      "continuous variables standardized\n"
     ]
    }
   ],
   "source": [
    "eval_data = get_data(\"X_test.xlsx\")\n",
    "solution_output_data = eval_data.copy() # attach final predictions to this data for output in csv format\n",
    "eval_data = pre_process_loan_data(eval_data, categorical_variables, continuous_variables, True, False)\n",
    "eval_data_processed, y_eval, preprocessor_eval = sklearn_pre_process_loan_data(eval_data, False, False)\n",
    "\n",
    "# make sure that the test data and the evaluation data have the same features prior to training\n",
    "model_data_processed, eval_data_processed = column_standardizer(model_data_processed, eval_data_processed)"
   ]
  },
  {
   "cell_type": "markdown",
   "id": "a4532bfe",
   "metadata": {},
   "source": [
    "## 2. Model"
   ]
  },
  {
   "cell_type": "markdown",
   "id": "656bbfbb",
   "metadata": {},
   "source": [
    "### Model 1 - sklearn logistic regression with automated feature selection"
   ]
  },
  {
   "cell_type": "code",
   "execution_count": 8,
   "id": "b87a5e8f",
   "metadata": {},
   "outputs": [
    {
     "name": "stdout",
     "output_type": "stream",
     "text": [
      "(500, 210)\n",
      "(500,)\n"
     ]
    },
    {
     "name": "stderr",
     "output_type": "stream",
     "text": [
      "/home/grant/anaconda3/envs/data-science/lib/python3.10/site-packages/scipy/__init__.py:146: UserWarning: A NumPy version >=1.16.5 and <1.23.0 is required for this version of SciPy (detected version 1.23.1\n",
      "  warnings.warn(f\"A NumPy version >={np_minversion} and <{np_maxversion}\"\n",
      "/home/grant/anaconda3/envs/data-science/lib/python3.10/site-packages/scipy/__init__.py:146: UserWarning: A NumPy version >=1.16.5 and <1.23.0 is required for this version of SciPy (detected version 1.23.1\n",
      "  warnings.warn(f\"A NumPy version >={np_minversion} and <{np_maxversion}\"\n",
      "/home/grant/anaconda3/envs/data-science/lib/python3.10/site-packages/scipy/__init__.py:146: UserWarning: A NumPy version >=1.16.5 and <1.23.0 is required for this version of SciPy (detected version 1.23.1\n",
      "  warnings.warn(f\"A NumPy version >={np_minversion} and <{np_maxversion}\"\n",
      "/home/grant/anaconda3/envs/data-science/lib/python3.10/site-packages/scipy/__init__.py:146: UserWarning: A NumPy version >=1.16.5 and <1.23.0 is required for this version of SciPy (detected version 1.23.1\n",
      "  warnings.warn(f\"A NumPy version >={np_minversion} and <{np_maxversion}\"\n",
      "/home/grant/anaconda3/envs/data-science/lib/python3.10/site-packages/scipy/__init__.py:146: UserWarning: A NumPy version >=1.16.5 and <1.23.0 is required for this version of SciPy (detected version 1.23.1\n",
      "  warnings.warn(f\"A NumPy version >={np_minversion} and <{np_maxversion}\"\n",
      "/home/grant/anaconda3/envs/data-science/lib/python3.10/site-packages/scipy/__init__.py:146: UserWarning: A NumPy version >=1.16.5 and <1.23.0 is required for this version of SciPy (detected version 1.23.1\n",
      "  warnings.warn(f\"A NumPy version >={np_minversion} and <{np_maxversion}\"\n",
      "/home/grant/anaconda3/envs/data-science/lib/python3.10/site-packages/scipy/__init__.py:146: UserWarning: A NumPy version >=1.16.5 and <1.23.0 is required for this version of SciPy (detected version 1.23.1\n",
      "  warnings.warn(f\"A NumPy version >={np_minversion} and <{np_maxversion}\"\n",
      "/home/grant/anaconda3/envs/data-science/lib/python3.10/site-packages/scipy/__init__.py:146: UserWarning: A NumPy version >=1.16.5 and <1.23.0 is required for this version of SciPy (detected version 1.23.1\n",
      "  warnings.warn(f\"A NumPy version >={np_minversion} and <{np_maxversion}\"\n",
      "/home/grant/anaconda3/envs/data-science/lib/python3.10/site-packages/scipy/__init__.py:146: UserWarning: A NumPy version >=1.16.5 and <1.23.0 is required for this version of SciPy (detected version 1.23.1\n",
      "  warnings.warn(f\"A NumPy version >={np_minversion} and <{np_maxversion}\"\n",
      "/home/grant/anaconda3/envs/data-science/lib/python3.10/site-packages/scipy/__init__.py:146: UserWarning: A NumPy version >=1.16.5 and <1.23.0 is required for this version of SciPy (detected version 1.23.1\n",
      "  warnings.warn(f\"A NumPy version >={np_minversion} and <{np_maxversion}\"\n",
      "/home/grant/anaconda3/envs/data-science/lib/python3.10/site-packages/scipy/__init__.py:146: UserWarning: A NumPy version >=1.16.5 and <1.23.0 is required for this version of SciPy (detected version 1.23.1\n",
      "  warnings.warn(f\"A NumPy version >={np_minversion} and <{np_maxversion}\"\n",
      "/home/grant/anaconda3/envs/data-science/lib/python3.10/site-packages/scipy/__init__.py:146: UserWarning: A NumPy version >=1.16.5 and <1.23.0 is required for this version of SciPy (detected version 1.23.1\n",
      "  warnings.warn(f\"A NumPy version >={np_minversion} and <{np_maxversion}\"\n",
      "/home/grant/anaconda3/envs/data-science/lib/python3.10/site-packages/scipy/__init__.py:146: UserWarning: A NumPy version >=1.16.5 and <1.23.0 is required for this version of SciPy (detected version 1.23.1\n",
      "  warnings.warn(f\"A NumPy version >={np_minversion} and <{np_maxversion}\"\n",
      "/home/grant/anaconda3/envs/data-science/lib/python3.10/site-packages/scipy/__init__.py:146: UserWarning: A NumPy version >=1.16.5 and <1.23.0 is required for this version of SciPy (detected version 1.23.1\n",
      "  warnings.warn(f\"A NumPy version >={np_minversion} and <{np_maxversion}\"\n",
      "/home/grant/anaconda3/envs/data-science/lib/python3.10/site-packages/scipy/__init__.py:146: UserWarning: A NumPy version >=1.16.5 and <1.23.0 is required for this version of SciPy (detected version 1.23.1\n",
      "  warnings.warn(f\"A NumPy version >={np_minversion} and <{np_maxversion}\"\n",
      "/home/grant/anaconda3/envs/data-science/lib/python3.10/site-packages/scipy/__init__.py:146: UserWarning: A NumPy version >=1.16.5 and <1.23.0 is required for this version of SciPy (detected version 1.23.1\n",
      "  warnings.warn(f\"A NumPy version >={np_minversion} and <{np_maxversion}\"\n"
     ]
    },
    {
     "name": "stdout",
     "output_type": "stream",
     "text": [
      "feature selection score:  0.998\n",
      "SFS chosen features:  ('one hot encoder__denial_reason-1_9', 'one hot encoder__denial_reason-1_10')\n"
     ]
    }
   ],
   "source": [
    "if not production:\n",
    "    model1_data = model_data_processed.copy()\n",
    "    features = feature_selection(model1_data.copy(), y, n=500, num_features=\"best\")\n",
    "    X_train, X_test, y_train, y_test = get_train_test_data(model1_data, y, features)\n",
    "    model1 = LogisticRegression(n_jobs=-1, max_iter=10000)\n",
    "    model1.fit(X_train, y_train)\n",
    "    result_scores = evaluate_model(result_scores, model1, \"Logistic\", X_train, X_test, y_train, y_test)"
   ]
  },
  {
   "cell_type": "markdown",
   "id": "2f9b254e",
   "metadata": {},
   "source": [
    "### Model 2 - Sklearn LASSO"
   ]
  },
  {
   "cell_type": "code",
   "execution_count": 9,
   "id": "547fe376",
   "metadata": {},
   "outputs": [
    {
     "name": "stdout",
     "output_type": "stream",
     "text": [
      "LASSO number of features:  210\n"
     ]
    }
   ],
   "source": [
    "if not production:\n",
    "    model2_data = model_data_processed.copy()\n",
    "    X_train, X_test, y_train, y_test = get_train_test_data(model2_data, y)\n",
    "    model2 = LogisticRegressionCV(Cs=[0.01, 0.05, 0.1, 0.15, 0.2, 0.5, 1], n_jobs=-1, max_iter=10000)\n",
    "    model2.fit(X_train, y_train)\n",
    "    print(\"LASSO number of features: \", model2.n_features_in_)\n",
    "    result_scores = evaluate_model(result_scores, model2, \"LASSO\", X_train, X_test, y_train, y_test)"
   ]
  },
  {
   "cell_type": "markdown",
   "id": "00b7debb",
   "metadata": {},
   "source": [
    "### Model Scores"
   ]
  },
  {
   "cell_type": "code",
   "execution_count": 10,
   "id": "b0d36498",
   "metadata": {},
   "outputs": [
    {
     "data": {
      "text/html": [
       "<div>\n",
       "<style scoped>\n",
       "    .dataframe tbody tr th:only-of-type {\n",
       "        vertical-align: middle;\n",
       "    }\n",
       "\n",
       "    .dataframe tbody tr th {\n",
       "        vertical-align: top;\n",
       "    }\n",
       "\n",
       "    .dataframe thead th {\n",
       "        text-align: right;\n",
       "    }\n",
       "</style>\n",
       "<table border=\"1\" class=\"dataframe\">\n",
       "  <thead>\n",
       "    <tr style=\"text-align: right;\">\n",
       "      <th></th>\n",
       "      <th>Logistic</th>\n",
       "      <th>LASSO</th>\n",
       "    </tr>\n",
       "  </thead>\n",
       "  <tbody>\n",
       "    <tr>\n",
       "      <th>Train Score</th>\n",
       "      <td>0.996000</td>\n",
       "      <td>0.999533</td>\n",
       "    </tr>\n",
       "    <tr>\n",
       "      <th>Test Score</th>\n",
       "      <td>0.997400</td>\n",
       "      <td>0.999600</td>\n",
       "    </tr>\n",
       "    <tr>\n",
       "      <th>Test Precision</th>\n",
       "      <td>0.996968</td>\n",
       "      <td>0.999766</td>\n",
       "    </tr>\n",
       "    <tr>\n",
       "      <th>Test Recall</th>\n",
       "      <td>1.000000</td>\n",
       "      <td>0.999766</td>\n",
       "    </tr>\n",
       "    <tr>\n",
       "      <th>Test AUC</th>\n",
       "      <td>0.991034</td>\n",
       "      <td>0.999193</td>\n",
       "    </tr>\n",
       "  </tbody>\n",
       "</table>\n",
       "</div>"
      ],
      "text/plain": [
       "                Logistic     LASSO\n",
       "Train Score     0.996000  0.999533\n",
       "Test Score      0.997400  0.999600\n",
       "Test Precision  0.996968  0.999766\n",
       "Test Recall     1.000000  0.999766\n",
       "Test AUC        0.991034  0.999193"
      ]
     },
     "execution_count": 10,
     "metadata": {},
     "output_type": "execute_result"
    }
   ],
   "source": [
    "results_df = pd.DataFrame(result_scores)\n",
    "results_df"
   ]
  },
  {
   "cell_type": "markdown",
   "id": "eb602169",
   "metadata": {},
   "source": [
    "The LASSO model has the highest scores, and will be used in the final model."
   ]
  },
  {
   "cell_type": "markdown",
   "id": "31685762",
   "metadata": {},
   "source": [
    "## Fit model to evaluation data\n",
    "- https://machinelearningmastery.com/train-final-machine-learning-model/\n",
    "- https://machinelearningmastery.com/make-predictions-scikit-learn/"
   ]
  },
  {
   "cell_type": "code",
   "execution_count": 11,
   "id": "f20a014c",
   "metadata": {},
   "outputs": [],
   "source": [
    "if production:\n",
    "    print(\"running final production model. This may take some time...\")\n",
    "    final_model_data = model_data_processed.copy()\n",
    "    X_train, X_test, y_train, y_test = get_train_test_data(final_model_data, y, False, 0)\n",
    "    final_model = LogisticRegressionCV(Cs=[0.01, 0.05, 0.1, 0.15, 0.2, 0.5, 1], n_jobs=-1, max_iter=10000)\n",
    "    final_model.fit(X_train, y_train) #X_train and y_train have all the data in this case\n",
    "    print(final_model.n_features_in_)\n",
    "    predictions = final_model.predict(eval_data_processed)\n",
    "    solution_output_data[\"action_taken\"] = final_model.predict(eval_data_processed)\n",
    "    solution_output_data.to_csv(\"X_test_predicted_gm.csv\", index=False)"
   ]
  },
  {
   "cell_type": "code",
   "execution_count": 12,
   "id": "7e545cf2",
   "metadata": {},
   "outputs": [
    {
     "name": "stdout",
     "output_type": "stream",
     "text": [
      "Runtime:  1.5016475900333413 minutes\n"
     ]
    }
   ],
   "source": [
    "stop = timeit.default_timer()\n",
    "print('Runtime: ', (stop - start)/60, 'minutes')"
   ]
  }
 ],
 "metadata": {
  "kernelspec": {
   "display_name": "Python 3 (ipykernel)",
   "language": "python",
   "name": "python3"
  },
  "language_info": {
   "codemirror_mode": {
    "name": "ipython",
    "version": 3
   },
   "file_extension": ".py",
   "mimetype": "text/x-python",
   "name": "python",
   "nbconvert_exporter": "python",
   "pygments_lexer": "ipython3",
   "version": "3.10.4"
  }
 },
 "nbformat": 4,
 "nbformat_minor": 5
}
